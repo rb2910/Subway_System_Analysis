{
 "cells": [
  {
   "cell_type": "code",
   "execution_count": 1,
   "metadata": {
    "collapsed": true
   },
   "outputs": [],
   "source": [
    "import pandas as pd\n",
    "import numpy as np\n",
    "import random as rd # generating random numbers\n",
    "import datetime\n",
    "from pandas import read_csv\n",
    "from datetime import datetime\n",
    "import os\n",
    "%matplotlib inline\n",
    "import matplotlib.pyplot as plt\n",
    "import seaborn as sns\n"
   ]
  },
  {
   "cell_type": "code",
   "execution_count": 2,
   "metadata": {
    "collapsed": true
   },
   "outputs": [],
   "source": [
    "# Create input path variable\n",
    "Input_Path = 'F:/MIT_FALL2017/Capstone_Project/'"
   ]
  },
  {
   "cell_type": "code",
   "execution_count": 3,
   "metadata": {
    "collapsed": true
   },
   "outputs": [],
   "source": [
    "# To save time for testruns write the sample data to a csv file for future use\n",
    "#df_train.to_csv(Input_Path+\"traindata\", index=False)\n",
    "df=pd.read_csv(Input_Path+\"traindata\",low_memory=False)"
   ]
  },
  {
   "cell_type": "code",
   "execution_count": 4,
   "metadata": {},
   "outputs": [
    {
     "data": {
      "text/html": [
       "<div>\n",
       "<style>\n",
       "    .dataframe thead tr:only-child th {\n",
       "        text-align: right;\n",
       "    }\n",
       "\n",
       "    .dataframe thead th {\n",
       "        text-align: left;\n",
       "    }\n",
       "\n",
       "    .dataframe tbody tr th {\n",
       "        vertical-align: top;\n",
       "    }\n",
       "</style>\n",
       "<table border=\"1\" class=\"dataframe\">\n",
       "  <thead>\n",
       "    <tr style=\"text-align: right;\">\n",
       "      <th></th>\n",
       "      <th>C/A</th>\n",
       "      <th>UNIT</th>\n",
       "      <th>SCP</th>\n",
       "      <th>STATION</th>\n",
       "      <th>LINENAME</th>\n",
       "      <th>DIVISION</th>\n",
       "      <th>DATE</th>\n",
       "      <th>TIME</th>\n",
       "      <th>DESC</th>\n",
       "      <th>ENTRIES</th>\n",
       "      <th>EXITS</th>\n",
       "    </tr>\n",
       "  </thead>\n",
       "  <tbody>\n",
       "    <tr>\n",
       "      <th>0</th>\n",
       "      <td>A002</td>\n",
       "      <td>R051</td>\n",
       "      <td>02-00-00</td>\n",
       "      <td>59 ST</td>\n",
       "      <td>NQR456W</td>\n",
       "      <td>BMT</td>\n",
       "      <td>12/17/2016</td>\n",
       "      <td>11:00:00</td>\n",
       "      <td>REGULAR</td>\n",
       "      <td>0005967553</td>\n",
       "      <td>0002022233                                    ...</td>\n",
       "    </tr>\n",
       "    <tr>\n",
       "      <th>1</th>\n",
       "      <td>A002</td>\n",
       "      <td>R051</td>\n",
       "      <td>02-00-00</td>\n",
       "      <td>59 ST</td>\n",
       "      <td>NQR456W</td>\n",
       "      <td>BMT</td>\n",
       "      <td>12/17/2016</td>\n",
       "      <td>15:00:00</td>\n",
       "      <td>REGULAR</td>\n",
       "      <td>0005967790</td>\n",
       "      <td>0002022331                                    ...</td>\n",
       "    </tr>\n",
       "    <tr>\n",
       "      <th>2</th>\n",
       "      <td>A002</td>\n",
       "      <td>R051</td>\n",
       "      <td>02-00-00</td>\n",
       "      <td>59 ST</td>\n",
       "      <td>NQR456W</td>\n",
       "      <td>BMT</td>\n",
       "      <td>12/17/2016</td>\n",
       "      <td>23:00:00</td>\n",
       "      <td>REGULAR</td>\n",
       "      <td>0005968429</td>\n",
       "      <td>0002022470                                    ...</td>\n",
       "    </tr>\n",
       "    <tr>\n",
       "      <th>3</th>\n",
       "      <td>A002</td>\n",
       "      <td>R051</td>\n",
       "      <td>02-00-00</td>\n",
       "      <td>59 ST</td>\n",
       "      <td>NQR456W</td>\n",
       "      <td>BMT</td>\n",
       "      <td>12/18/2016</td>\n",
       "      <td>03:00:00</td>\n",
       "      <td>REGULAR</td>\n",
       "      <td>0005968519</td>\n",
       "      <td>0002022492                                    ...</td>\n",
       "    </tr>\n",
       "    <tr>\n",
       "      <th>4</th>\n",
       "      <td>A002</td>\n",
       "      <td>R051</td>\n",
       "      <td>02-00-00</td>\n",
       "      <td>59 ST</td>\n",
       "      <td>NQR456W</td>\n",
       "      <td>BMT</td>\n",
       "      <td>12/18/2016</td>\n",
       "      <td>07:00:00</td>\n",
       "      <td>REGULAR</td>\n",
       "      <td>0005968527</td>\n",
       "      <td>0002022504                                    ...</td>\n",
       "    </tr>\n",
       "  </tbody>\n",
       "</table>\n",
       "</div>"
      ],
      "text/plain": [
       "    C/A  UNIT       SCP STATION LINENAME DIVISION        DATE      TIME  \\\n",
       "0  A002  R051  02-00-00   59 ST  NQR456W      BMT  12/17/2016  11:00:00   \n",
       "1  A002  R051  02-00-00   59 ST  NQR456W      BMT  12/17/2016  15:00:00   \n",
       "2  A002  R051  02-00-00   59 ST  NQR456W      BMT  12/17/2016  23:00:00   \n",
       "3  A002  R051  02-00-00   59 ST  NQR456W      BMT  12/18/2016  03:00:00   \n",
       "4  A002  R051  02-00-00   59 ST  NQR456W      BMT  12/18/2016  07:00:00   \n",
       "\n",
       "      DESC     ENTRIES                                              EXITS  \n",
       "0  REGULAR  0005967553  0002022233                                    ...  \n",
       "1  REGULAR  0005967790  0002022331                                    ...  \n",
       "2  REGULAR  0005968429  0002022470                                    ...  \n",
       "3  REGULAR  0005968519  0002022492                                    ...  \n",
       "4  REGULAR  0005968527  0002022504                                    ...  "
      ]
     },
     "execution_count": 4,
     "metadata": {},
     "output_type": "execute_result"
    }
   ],
   "source": [
    "df.head()"
   ]
  },
  {
   "cell_type": "code",
   "execution_count": 5,
   "metadata": {},
   "outputs": [
    {
     "data": {
      "text/html": [
       "<div>\n",
       "<style>\n",
       "    .dataframe thead tr:only-child th {\n",
       "        text-align: right;\n",
       "    }\n",
       "\n",
       "    .dataframe thead th {\n",
       "        text-align: left;\n",
       "    }\n",
       "\n",
       "    .dataframe tbody tr th {\n",
       "        vertical-align: top;\n",
       "    }\n",
       "</style>\n",
       "<table border=\"1\" class=\"dataframe\">\n",
       "  <thead>\n",
       "    <tr style=\"text-align: right;\">\n",
       "      <th></th>\n",
       "      <th>C/A</th>\n",
       "      <th>UNIT</th>\n",
       "      <th>SCP</th>\n",
       "      <th>STATION</th>\n",
       "      <th>LINENAME</th>\n",
       "      <th>DIVISION</th>\n",
       "      <th>DATE</th>\n",
       "      <th>TIME</th>\n",
       "      <th>DESC</th>\n",
       "      <th>ENTRIES</th>\n",
       "      <th>EXITS</th>\n",
       "    </tr>\n",
       "  </thead>\n",
       "  <tbody>\n",
       "    <tr>\n",
       "      <th>8041774</th>\n",
       "      <td>TRAM2</td>\n",
       "      <td>R469</td>\n",
       "      <td>00-05-01</td>\n",
       "      <td>RIT-ROOSEVELT</td>\n",
       "      <td>R</td>\n",
       "      <td>RIT</td>\n",
       "      <td>12/31/2014</td>\n",
       "      <td>00:00:00</td>\n",
       "      <td>REGULAR</td>\n",
       "      <td>0000005554</td>\n",
       "      <td>0000000195                                    ...</td>\n",
       "    </tr>\n",
       "    <tr>\n",
       "      <th>8041775</th>\n",
       "      <td>TRAM2</td>\n",
       "      <td>R469</td>\n",
       "      <td>00-05-01</td>\n",
       "      <td>RIT-ROOSEVELT</td>\n",
       "      <td>R</td>\n",
       "      <td>RIT</td>\n",
       "      <td>12/31/2014</td>\n",
       "      <td>04:00:00</td>\n",
       "      <td>REGULAR</td>\n",
       "      <td>0000005554</td>\n",
       "      <td>0000000195                                    ...</td>\n",
       "    </tr>\n",
       "    <tr>\n",
       "      <th>8041776</th>\n",
       "      <td>TRAM2</td>\n",
       "      <td>R469</td>\n",
       "      <td>00-05-01</td>\n",
       "      <td>RIT-ROOSEVELT</td>\n",
       "      <td>R</td>\n",
       "      <td>RIT</td>\n",
       "      <td>01/01/2015</td>\n",
       "      <td>04:00:00</td>\n",
       "      <td>REGULAR</td>\n",
       "      <td>0000005554</td>\n",
       "      <td>0000000195                                    ...</td>\n",
       "    </tr>\n",
       "    <tr>\n",
       "      <th>8041777</th>\n",
       "      <td>TRAM2</td>\n",
       "      <td>R469</td>\n",
       "      <td>00-05-01</td>\n",
       "      <td>RIT-ROOSEVELT</td>\n",
       "      <td>R</td>\n",
       "      <td>RIT</td>\n",
       "      <td>01/01/2015</td>\n",
       "      <td>08:00:00</td>\n",
       "      <td>REGULAR</td>\n",
       "      <td>0000005554</td>\n",
       "      <td>0000000195                                    ...</td>\n",
       "    </tr>\n",
       "    <tr>\n",
       "      <th>8041778</th>\n",
       "      <td>TRAM2</td>\n",
       "      <td>R469</td>\n",
       "      <td>00-05-01</td>\n",
       "      <td>RIT-ROOSEVELT</td>\n",
       "      <td>R</td>\n",
       "      <td>RIT</td>\n",
       "      <td>01/02/2015</td>\n",
       "      <td>20:00:00</td>\n",
       "      <td>REGULAR</td>\n",
       "      <td>0000005554</td>\n",
       "      <td>0000000195                                    ...</td>\n",
       "    </tr>\n",
       "  </tbody>\n",
       "</table>\n",
       "</div>"
      ],
      "text/plain": [
       "           C/A  UNIT       SCP        STATION LINENAME DIVISION        DATE  \\\n",
       "8041774  TRAM2  R469  00-05-01  RIT-ROOSEVELT        R      RIT  12/31/2014   \n",
       "8041775  TRAM2  R469  00-05-01  RIT-ROOSEVELT        R      RIT  12/31/2014   \n",
       "8041776  TRAM2  R469  00-05-01  RIT-ROOSEVELT        R      RIT  01/01/2015   \n",
       "8041777  TRAM2  R469  00-05-01  RIT-ROOSEVELT        R      RIT  01/01/2015   \n",
       "8041778  TRAM2  R469  00-05-01  RIT-ROOSEVELT        R      RIT  01/02/2015   \n",
       "\n",
       "             TIME     DESC     ENTRIES  \\\n",
       "8041774  00:00:00  REGULAR  0000005554   \n",
       "8041775  04:00:00  REGULAR  0000005554   \n",
       "8041776  04:00:00  REGULAR  0000005554   \n",
       "8041777  08:00:00  REGULAR  0000005554   \n",
       "8041778  20:00:00  REGULAR  0000005554   \n",
       "\n",
       "                                                     EXITS  \n",
       "8041774  0000000195                                    ...  \n",
       "8041775  0000000195                                    ...  \n",
       "8041776  0000000195                                    ...  \n",
       "8041777  0000000195                                    ...  \n",
       "8041778  0000000195                                    ...  "
      ]
     },
     "execution_count": 5,
     "metadata": {},
     "output_type": "execute_result"
    }
   ],
   "source": [
    "df.tail()"
   ]
  },
  {
   "cell_type": "code",
   "execution_count": 6,
   "metadata": {},
   "outputs": [
    {
     "data": {
      "text/html": [
       "<div>\n",
       "<style>\n",
       "    .dataframe thead tr:only-child th {\n",
       "        text-align: right;\n",
       "    }\n",
       "\n",
       "    .dataframe thead th {\n",
       "        text-align: left;\n",
       "    }\n",
       "\n",
       "    .dataframe tbody tr th {\n",
       "        vertical-align: top;\n",
       "    }\n",
       "</style>\n",
       "<table border=\"1\" class=\"dataframe\">\n",
       "  <thead>\n",
       "    <tr style=\"text-align: right;\">\n",
       "      <th></th>\n",
       "      <th>C/A</th>\n",
       "      <th>UNIT</th>\n",
       "      <th>SCP</th>\n",
       "      <th>STATION</th>\n",
       "      <th>LINENAME</th>\n",
       "      <th>DIVISION</th>\n",
       "      <th>DATE</th>\n",
       "      <th>TIME</th>\n",
       "      <th>DESC</th>\n",
       "      <th>ENTRIES</th>\n",
       "      <th>EXITS</th>\n",
       "    </tr>\n",
       "  </thead>\n",
       "  <tbody>\n",
       "    <tr>\n",
       "      <th>count</th>\n",
       "      <td>8041779</td>\n",
       "      <td>8041779</td>\n",
       "      <td>8041779</td>\n",
       "      <td>8041779</td>\n",
       "      <td>8041779</td>\n",
       "      <td>8041779</td>\n",
       "      <td>8041779</td>\n",
       "      <td>8041779</td>\n",
       "      <td>8041779</td>\n",
       "      <td>8041779</td>\n",
       "      <td>8041779</td>\n",
       "    </tr>\n",
       "    <tr>\n",
       "      <th>unique</th>\n",
       "      <td>735</td>\n",
       "      <td>468</td>\n",
       "      <td>219</td>\n",
       "      <td>569</td>\n",
       "      <td>129</td>\n",
       "      <td>7</td>\n",
       "      <td>729</td>\n",
       "      <td>85599</td>\n",
       "      <td>3</td>\n",
       "      <td>4939058</td>\n",
       "      <td>6633182</td>\n",
       "    </tr>\n",
       "    <tr>\n",
       "      <th>top</th>\n",
       "      <td>PTH05</td>\n",
       "      <td>R549</td>\n",
       "      <td>00-00-00</td>\n",
       "      <td>34 ST-PENN STA</td>\n",
       "      <td>1</td>\n",
       "      <td>IRT</td>\n",
       "      <td>02/19/2016</td>\n",
       "      <td>00:00:00</td>\n",
       "      <td>REGULAR</td>\n",
       "      <td>0000000000</td>\n",
       "      <td>0000000000                                    ...</td>\n",
       "    </tr>\n",
       "    <tr>\n",
       "      <th>freq</th>\n",
       "      <td>42951</td>\n",
       "      <td>103900</td>\n",
       "      <td>806488</td>\n",
       "      <td>176779</td>\n",
       "      <td>921230</td>\n",
       "      <td>2955772</td>\n",
       "      <td>13954</td>\n",
       "      <td>624559</td>\n",
       "      <td>8009199</td>\n",
       "      <td>148016</td>\n",
       "      <td>35857</td>\n",
       "    </tr>\n",
       "  </tbody>\n",
       "</table>\n",
       "</div>"
      ],
      "text/plain": [
       "            C/A     UNIT       SCP         STATION LINENAME DIVISION  \\\n",
       "count   8041779  8041779   8041779         8041779  8041779  8041779   \n",
       "unique      735      468       219             569      129        7   \n",
       "top       PTH05     R549  00-00-00  34 ST-PENN STA        1      IRT   \n",
       "freq      42951   103900    806488          176779   921230  2955772   \n",
       "\n",
       "              DATE      TIME     DESC     ENTRIES  \\\n",
       "count      8041779   8041779  8041779     8041779   \n",
       "unique         729     85599        3     4939058   \n",
       "top     02/19/2016  00:00:00  REGULAR  0000000000   \n",
       "freq         13954    624559  8009199      148016   \n",
       "\n",
       "                                                    EXITS  \n",
       "count                                             8041779  \n",
       "unique                                            6633182  \n",
       "top     0000000000                                    ...  \n",
       "freq                                                35857  "
      ]
     },
     "execution_count": 6,
     "metadata": {},
     "output_type": "execute_result"
    }
   ],
   "source": [
    "df.describe()"
   ]
  },
  {
   "cell_type": "markdown",
   "metadata": {},
   "source": [
    "## Data Cleaning "
   ]
  },
  {
   "cell_type": "code",
   "execution_count": 7,
   "metadata": {},
   "outputs": [
    {
     "data": {
      "text/plain": [
       "Index(['C/A', 'UNIT', 'SCP', 'STATION', 'LINENAME', 'DIVISION', 'DATE', 'TIME',\n",
       "       'DESC', 'ENTRIES', 'EXITS'],\n",
       "      dtype='object')"
      ]
     },
     "execution_count": 7,
     "metadata": {},
     "output_type": "execute_result"
    }
   ],
   "source": [
    "df.columns"
   ]
  },
  {
   "cell_type": "markdown",
   "metadata": {},
   "source": [
    "##### Drop duplicate value"
   ]
  },
  {
   "cell_type": "code",
   "execution_count": 8,
   "metadata": {},
   "outputs": [
    {
     "data": {
      "text/plain": [
       "False    8041737\n",
       "True          42\n",
       "dtype: int64"
      ]
     },
     "execution_count": 8,
     "metadata": {},
     "output_type": "execute_result"
    }
   ],
   "source": [
    "df.duplicated().value_counts()"
   ]
  },
  {
   "cell_type": "code",
   "execution_count": 9,
   "metadata": {
    "collapsed": true
   },
   "outputs": [],
   "source": [
    "df = df.drop_duplicates()"
   ]
  },
  {
   "cell_type": "code",
   "execution_count": 10,
   "metadata": {
    "collapsed": true
   },
   "outputs": [],
   "source": [
    "#to drop if any value in the row has a nan\n",
    "df= df.dropna(how='any')"
   ]
  },
  {
   "cell_type": "code",
   "execution_count": 11,
   "metadata": {
    "collapsed": true
   },
   "outputs": [],
   "source": [
    "df['C/A'].unique()\n",
    "df = df.drop(df[df['C/A'] == 'C/A'].index)"
   ]
  },
  {
   "cell_type": "code",
   "execution_count": 12,
   "metadata": {},
   "outputs": [
    {
     "data": {
      "text/html": [
       "<div>\n",
       "<style>\n",
       "    .dataframe thead tr:only-child th {\n",
       "        text-align: right;\n",
       "    }\n",
       "\n",
       "    .dataframe thead th {\n",
       "        text-align: left;\n",
       "    }\n",
       "\n",
       "    .dataframe tbody tr th {\n",
       "        vertical-align: top;\n",
       "    }\n",
       "</style>\n",
       "<table border=\"1\" class=\"dataframe\">\n",
       "  <thead>\n",
       "    <tr style=\"text-align: right;\">\n",
       "      <th></th>\n",
       "      <th>C/A</th>\n",
       "      <th>UNIT</th>\n",
       "      <th>SCP</th>\n",
       "      <th>STATION</th>\n",
       "      <th>LINENAME</th>\n",
       "      <th>DIVISION</th>\n",
       "      <th>DATE</th>\n",
       "      <th>TIME</th>\n",
       "      <th>DESC</th>\n",
       "      <th>ENTRIES</th>\n",
       "      <th>EXITS</th>\n",
       "    </tr>\n",
       "  </thead>\n",
       "  <tbody>\n",
       "    <tr>\n",
       "      <th>0</th>\n",
       "      <td>A002</td>\n",
       "      <td>R051</td>\n",
       "      <td>02-00-00</td>\n",
       "      <td>59 ST</td>\n",
       "      <td>NQR456W</td>\n",
       "      <td>BMT</td>\n",
       "      <td>12/17/2016</td>\n",
       "      <td>11:00:00</td>\n",
       "      <td>REGULAR</td>\n",
       "      <td>0005967553</td>\n",
       "      <td>0002022233                                    ...</td>\n",
       "    </tr>\n",
       "    <tr>\n",
       "      <th>1</th>\n",
       "      <td>A002</td>\n",
       "      <td>R051</td>\n",
       "      <td>02-00-00</td>\n",
       "      <td>59 ST</td>\n",
       "      <td>NQR456W</td>\n",
       "      <td>BMT</td>\n",
       "      <td>12/17/2016</td>\n",
       "      <td>15:00:00</td>\n",
       "      <td>REGULAR</td>\n",
       "      <td>0005967790</td>\n",
       "      <td>0002022331                                    ...</td>\n",
       "    </tr>\n",
       "    <tr>\n",
       "      <th>2</th>\n",
       "      <td>A002</td>\n",
       "      <td>R051</td>\n",
       "      <td>02-00-00</td>\n",
       "      <td>59 ST</td>\n",
       "      <td>NQR456W</td>\n",
       "      <td>BMT</td>\n",
       "      <td>12/17/2016</td>\n",
       "      <td>23:00:00</td>\n",
       "      <td>REGULAR</td>\n",
       "      <td>0005968429</td>\n",
       "      <td>0002022470                                    ...</td>\n",
       "    </tr>\n",
       "    <tr>\n",
       "      <th>3</th>\n",
       "      <td>A002</td>\n",
       "      <td>R051</td>\n",
       "      <td>02-00-00</td>\n",
       "      <td>59 ST</td>\n",
       "      <td>NQR456W</td>\n",
       "      <td>BMT</td>\n",
       "      <td>12/18/2016</td>\n",
       "      <td>03:00:00</td>\n",
       "      <td>REGULAR</td>\n",
       "      <td>0005968519</td>\n",
       "      <td>0002022492                                    ...</td>\n",
       "    </tr>\n",
       "    <tr>\n",
       "      <th>4</th>\n",
       "      <td>A002</td>\n",
       "      <td>R051</td>\n",
       "      <td>02-00-00</td>\n",
       "      <td>59 ST</td>\n",
       "      <td>NQR456W</td>\n",
       "      <td>BMT</td>\n",
       "      <td>12/18/2016</td>\n",
       "      <td>07:00:00</td>\n",
       "      <td>REGULAR</td>\n",
       "      <td>0005968527</td>\n",
       "      <td>0002022504                                    ...</td>\n",
       "    </tr>\n",
       "  </tbody>\n",
       "</table>\n",
       "</div>"
      ],
      "text/plain": [
       "    C/A  UNIT       SCP STATION LINENAME DIVISION        DATE      TIME  \\\n",
       "0  A002  R051  02-00-00   59 ST  NQR456W      BMT  12/17/2016  11:00:00   \n",
       "1  A002  R051  02-00-00   59 ST  NQR456W      BMT  12/17/2016  15:00:00   \n",
       "2  A002  R051  02-00-00   59 ST  NQR456W      BMT  12/17/2016  23:00:00   \n",
       "3  A002  R051  02-00-00   59 ST  NQR456W      BMT  12/18/2016  03:00:00   \n",
       "4  A002  R051  02-00-00   59 ST  NQR456W      BMT  12/18/2016  07:00:00   \n",
       "\n",
       "      DESC     ENTRIES                                              EXITS  \n",
       "0  REGULAR  0005967553  0002022233                                    ...  \n",
       "1  REGULAR  0005967790  0002022331                                    ...  \n",
       "2  REGULAR  0005968429  0002022470                                    ...  \n",
       "3  REGULAR  0005968519  0002022492                                    ...  \n",
       "4  REGULAR  0005968527  0002022504                                    ...  "
      ]
     },
     "execution_count": 12,
     "metadata": {},
     "output_type": "execute_result"
    }
   ],
   "source": [
    "df.head()"
   ]
  },
  {
   "cell_type": "code",
   "execution_count": 13,
   "metadata": {
    "collapsed": true
   },
   "outputs": [],
   "source": [
    "df.loc[df.UNIT == 'R105', 'STATION'] = \"14 ST-6 AVE\"\n",
    "df.loc[df.STATION == '34 ST-PENN STA', 'LINENAME'] = \"123ACE\"\n",
    "df.loc[df.STATION == '42 ST-PA BUS TE', 'STATION'] = \"42 ST-TIMES SQ\"\n",
    "df.loc[df.STATION == '42 ST-TIMES SQ', 'LINENAME'] = \"ACENQRS1237\"\n",
    "df.loc[df.UNIT == 'R346', 'STATION'] = \"COURT SQ-23 ST\"\n",
    "df.loc[df.STATION == 'COURT SQ-23 ST', 'LINENAME'] = \"EMG7\"\n",
    "df.loc[(df.STATION == 'FULTON ST') & (df.UNIT == 'R028'), 'LINENAME'] = \"ACJZ2345\"\n",
    "df.loc[df.STATION == 'JAY ST-METROTEC', 'LINENAME'] = \"ACFR\"\n",
    "df.loc[df.STATION == \"MURRARY ST-B'WAY\", 'STATION'] = \"CITY HALL\"\n",
    "df.loc[df.STATION == '51 ST', 'LINENAME'] = \"EM6\"\n",
    "df.loc[df.STATION == '51 ST', 'STATION'] = \"LEXINGTON-53 ST\"\n",
    "df.loc[df.STATION == '5 AVE-BRYANT PK', 'STATION'] = \"42 ST-BRYANT PK\"\n",
    "df.loc[df.STATION == '42 ST-BRYANT PK', 'LINENAME'] = \"BDFM7\"\n",
    "df.loc[df.STATION == 'BOTANIC GARDEN', 'STATION'] = \"FRANKLIN AVE\"\n",
    "df.loc[df.STATION == 'BOTANIC GARDEN', 'LINENAME'] = \"2345S\"\n",
    "df.loc[df.STATION == 'BLEECKER ST', 'STATION'] = \"BROADWAY/LAFAY\"\n",
    "df.loc[df.STATION == 'BLEECKER ST', 'LINENAME'] = \"BDFQ6\"\n",
    "df.loc[df.STATION == '1 AV', 'STATION'] = \"1 AVE\""
   ]
  },
  {
   "cell_type": "code",
   "execution_count": 14,
   "metadata": {
    "collapsed": true
   },
   "outputs": [],
   "source": [
    "df.loc[df.STATION == '42 ST-GRD CNTRL', 'STATION'] = \"GRD CNTRL-42 ST\"\n",
    "df.loc[df['STATION'] == 'TIMES SQ-42 ST', 'STATION'] = '42 ST-TIMES SQ'\n",
    "df.loc[df['STATION'] == '137 ST CITY COL', 'STATION'] = '137 ST-CITY COL'\n",
    "df.loc[df['STATION'] == '182-183 STS', 'STATION'] = '182-183 ST'\n",
    "df.loc[df['STATION'] == '33 ST-RAWSON ST', 'STATION'] = '33 ST/RAWSON ST'\n",
    "df.loc[df['STATION'] == '40 ST LOWERY ST', 'STATION'] = '40 ST-LOWERY ST'\n",
    "df.loc[df['STATION'] == '5 AVE/59 ST', 'STATION'] = '5 AVE-59 ST'\n",
    "df.loc[df['STATION'] == '59 ST COLUMBUS', 'STATION'] = '59 ST-COLUMBUS'\n",
    "df.loc[df['STATION'] == 'ASTOR PL', 'STATION'] = 'ASTOR PLACE'\n",
    "df.loc[df['STATION'] == 'BEDFORD PK BLVD', 'STATION'] = 'BEDFORD PARK BL'\n",
    "df.loc[df['STATION'] == 'BEVERLY RD', 'STATION'] = 'BEVERLY ROAD'\n",
    "df.loc[df['STATION'] == 'CORTELYOU RD', 'STATION'] = 'CORTELYOU ROAD'\n",
    "df.loc[df['STATION'] == 'FRESH POND RD', 'STATION'] = 'FRESH POND ROAD'\n",
    "df.loc[df['STATION'] == 'HOWARD BCH JFK', 'STATION'] = 'HOWARD BCH-JFK'\n",
    "df.loc[df['STATION'] == 'NECK RD', 'STATION'] = 'NECK ROAD'\n",
    "df.loc[df['STATION'] == 'VERNON-JACKSON', 'STATION'] = 'VERNON/JACKSON'\n",
    "df.loc[df['STATION'] == 'WAKEFIELD/241', 'STATION'] = 'WAKEFIELD-241'"
   ]
  },
  {
   "cell_type": "code",
   "execution_count": 15,
   "metadata": {},
   "outputs": [
    {
     "data": {
      "text/plain": [
       "array(['59 ST', '5 AV/59 ST', '57 ST-7 AV', '49 ST', '42 ST-TIMES SQ',\n",
       "       '34 ST-HERALD SQ', '28 ST', '23 ST', '14 ST-UNION SQ', '8 ST-NYU',\n",
       "       'PRINCE ST', 'CANAL ST', 'CITY HALL', 'CORTLANDT ST', 'RECTOR ST',\n",
       "       'WHITEHALL S-FRY', 'DELANCEY/ESSEX', 'BOWERY', 'CHAMBERS ST',\n",
       "       'FULTON ST', 'BROAD ST', '7 AV', 'PARK PLACE', 'FRANKLIN AVE',\n",
       "       'PROSPECT PARK', 'PARKSIDE AV', 'CHURCH AV', 'BEVERLEY ROAD',\n",
       "       'CORTELYOU ROAD', 'NEWKIRK PLAZA', 'AVENUE H', 'AVENUE J',\n",
       "       'AVENUE M', 'KINGS HWY', 'AVENUE U', 'NECK ROAD', 'SHEEPSHEAD BAY',\n",
       "       'BRIGHTON BEACH', 'OCEAN PKWY', 'BOROUGH HALL', 'JAY ST-METROTEC',\n",
       "       'DEKALB AV', 'ATL AV-BARCLAY', 'UNION ST', '4AV-9 ST',\n",
       "       'PROSPECT AV', '25 ST', '36 ST', '45 ST', '53 ST', 'BAY RIDGE AV',\n",
       "       '77 ST', '86 ST', 'BAY RIDGE-95 ST', '8 AV', 'FT HAMILTON PKY',\n",
       "       'NEW UTRECHT AV', '18 AV', '20 AV', 'BAY PKWY', '9 AV', '50 ST',\n",
       "       '55 ST', '71 ST', '79 ST', '25 AV', 'BAY 50 ST', 'CONEY IS-STILLW',\n",
       "       'W 8 ST-AQUARIUM', '6 AV', '3 AV', '1 AVE', 'BEDFORD AV',\n",
       "       'LORIMER ST', 'GRAHAM AV', 'GRAND ST', 'MONTROSE AV', 'MORGAN AV',\n",
       "       'JEFFERSON ST', 'MYRTLE-WYCKOFF', 'HALSEY ST', 'WILSON AV',\n",
       "       'BUSHWICK AV', 'ATLANTIC AV', 'SUTTER AV', 'LIVONIA AV', 'NEW LOTS',\n",
       "       'EAST 105 ST', 'CANARSIE-ROCKAW', 'HOWARD BCH-JFK',\n",
       "       'JFK JAMAICA CT1', 'MARCY AV', 'HEWES ST', 'FLUSHING AV',\n",
       "       'MYRTLE AV', 'KOSCIUSZKO ST', 'GATES AV', 'CHAUNCEY ST',\n",
       "       'ALABAMA AV', 'VAN SICLEN AV', 'CLEVELAND ST', 'NORWOOD AV',\n",
       "       'CRESCENT ST', 'CYPRESS HILLS', '75 ST-ELDERTS', '85 ST-FOREST PK',\n",
       "       'WOODHAVEN BLVD', '104 ST', '111 ST', '121 ST', 'CENTRAL AV',\n",
       "       'KNICKERBOCKER', 'SENECA AVE', 'FOREST AVE', 'FRESH POND ROAD',\n",
       "       'METROPOLITAN AV', 'INWOOD-207 ST', 'DYCKMAN ST', '190 ST',\n",
       "       '181 ST', '175 ST', '168 ST', '163 ST-AMSTERDM', '155 ST', '145 ST',\n",
       "       '135 ST', '125 ST', '116 ST', 'CATHEDRAL PKWY', '103 ST', '96 ST',\n",
       "       '81 ST-MUSEUM', '72 ST', '59 ST-COLUMBUS', '42 ST-PORT AUTH',\n",
       "       '34 ST-PENN STA', '14 ST', 'W 4 ST-WASH SQ', 'SPRING ST',\n",
       "       'WORLD TRADE CTR', 'HIGH ST', 'HOYT-SCHER', 'LAFAYETTE AV',\n",
       "       'CLINTON-WASH AV', 'FRANKLIN AV', 'NOSTRAND AV', 'KINGSTON-THROOP',\n",
       "       'UTICA AV', 'RALPH AV', 'ROCKAWAY AV', 'BROADWAY JCT', 'LIBERTY AV',\n",
       "       'VAN SICLEN AVE', 'SHEPHERD AV', 'EUCLID AV', 'GRANT AV', '80 ST',\n",
       "       '88 ST', 'ROCKAWAY BLVD', 'OZONE PK LEFFRT', 'AQUEDUCT N.COND',\n",
       "       'AQUEDUCT RACETR', 'BROAD CHANNEL', 'BEACH 90 ST', 'BEACH 98 ST',\n",
       "       'BEACH 105 ST', 'ROCKAWAY PARK B', 'BEACH 67 ST', 'BEACH 60 ST',\n",
       "       'BEACH 44 ST', 'BEACH 36 ST', 'BEACH 25 ST', 'FAR ROCKAWAY',\n",
       "       '161/YANKEE STAD', '167 ST', '170 ST', '174-175 STS', 'TREMONT AV',\n",
       "       '182-183 ST', 'FORDHAM RD', 'KINGSBRIDGE RD', 'BEDFORD PARK BL',\n",
       "       'NORWOOD 205 ST', '5 AV/53 ST', 'LEXINGTON AV/53', 'COURT SQ-23 ST',\n",
       "       'QUEENS PLAZA', 'STEINWAY ST', '46 ST', 'NORTHERN BLVD', '65 ST',\n",
       "       'JKSN HT-ROOSVLT', 'ELMHURST AV', 'GRAND-NEWTOWN',\n",
       "       '63 DR-REGO PARK', '67 AV', 'FOREST HILLS 71', '75 AV',\n",
       "       'KEW GARDENS', 'BRIARWOOD', 'SUTPHIN BLVD', 'PARSONS BLVD',\n",
       "       '169 ST', 'JAMAICA 179 ST', 'COURT SQ', '21 ST', 'GREENPOINT AV',\n",
       "       'NASSAU ST', 'BROADWAY', 'MYRTLE-WILLOUGH', 'BEDFORD-NOSTRAN',\n",
       "       'CLASSON AV', '47-50 STS ROCK', '42 ST-BRYANT PK',\n",
       "       \"B'WAY-LAFAYETTE\", '2 AV', 'EAST BROADWAY', 'YORK ST', 'BERGEN ST',\n",
       "       'CARROLL ST', 'SMITH-9 ST', '4 AV-9 ST', '15 ST-PROSPECT',\n",
       "       'DITMAS AV', 'AVENUE I', 'AVENUE N', 'AVENUE P', 'AVENUE X',\n",
       "       'NEPTUNE AV', '57 ST', 'LEXINGTON AV/63', 'ROOSEVELT ISLND',\n",
       "       '21 ST-QNSBRIDGE', 'JAMAICA VAN WK', 'SUTPHIN-ARCHER',\n",
       "       'JAMAICA CENTER', 'NEWARK HW BMEBE', 'HARRISON', 'JOURNAL SQUARE',\n",
       "       'GROVE STREET', 'EXCHANGE PLACE', 'PAVONIA/NEWPORT', 'CITY / BUS',\n",
       "       'CHRISTOPHER ST', '9TH STREET', '14TH STREET', 'TWENTY THIRD ST',\n",
       "       'THIRTY ST', 'LACKAWANNA', 'THIRTY THIRD ST', 'NEWARK BM BW',\n",
       "       'NEWARK C', 'NEWARK HM HE', 'SOUTH FERRY', 'WALL ST', 'FRANKLIN ST',\n",
       "       'HOUSTON ST', '14 ST-6 AVE', '18 ST', '66 ST-LINCOLN',\n",
       "       '116 ST-COLUMBIA', '137 ST-CITY COL', '157 ST', '191 ST', '207 ST',\n",
       "       '215 ST', 'MARBLE HILL-225', '231 ST', '238 ST', 'V.CORTLANDT PK',\n",
       "       'BOWLING GREEN', 'BROOKLYN BRIDGE', 'BROADWAY/LAFAY', 'ASTOR PLACE',\n",
       "       '33 ST', 'GRD CNTRL-42 ST', 'LEXINGTON-53 ST', '68ST-HUNTER CO',\n",
       "       '110 ST', '138/GRAND CONC', '149/GRAND CONC', 'MT EDEN AV',\n",
       "       '176 ST', 'BURNSIDE AV', '183 ST', 'MOSHOLU PKWY', 'WOODLAWN',\n",
       "       'CENTRAL PK N110', 'HARLEM 148 ST', '3 AV-149 ST', 'JACKSON AV',\n",
       "       'INTERVALE AV', 'SIMPSON ST', 'FREEMAN ST', '174 ST',\n",
       "       'WEST FARMS SQ', 'E 180 ST', 'BRONX PARK EAST', 'PELHAM PKWY',\n",
       "       'ALLERTON AV', 'BURKE AV', 'GUN HILL RD', '219 ST', '225 ST',\n",
       "       '233 ST', 'NEREID AV', 'WAKEFIELD-241', '3 AV 138 ST', 'BROOK AV',\n",
       "       'CYPRESS AV', \"E 143/ST MARY'S\", 'E 149 ST', 'LONGWOOD AV',\n",
       "       'HUNTS POINT AV', 'WHITLOCK AV', 'ELDER AV', 'MORISN AV/SNDVW',\n",
       "       'ST LAWRENCE AV', 'PARKCHESTER', 'CASTLE HILL AV', 'ZEREGA AV',\n",
       "       'WESTCHESTER SQ', 'MIDDLETOWN RD', 'BUHRE AV', 'PELHAM BAY PARK',\n",
       "       '5 AVE', 'VERNON/JACKSON', 'HUNTERS PT AV', 'QUEENSBORO PLZ',\n",
       "       '39 AV', '36 AV', '30 AV', 'ASTORIA BLVD', 'ASTORIA DITMARS',\n",
       "       '33 ST/RAWSON ST', '40 ST-LOWERY ST', '46 ST BLISS ST', '52 ST',\n",
       "       '61 ST WOODSIDE', '69 ST', '74 ST-BROADWAY', '82 ST-JACKSON H',\n",
       "       '90 ST-ELMHURST', 'JUNCTION BLVD', '103 ST-CORONA',\n",
       "       'METS-WILLETS PT', 'FLUSHING-MAIN', '34 ST-HUDSON YD', 'CLARK ST',\n",
       "       'HOYT ST', 'NEVINS ST', 'GRAND ARMY PLAZ', 'EASTN PKWY-MUSM',\n",
       "       'KINGSTON AV', 'CROWN HTS-UTICA', 'SARATOGA AV', 'NEW LOTS AV',\n",
       "       'PRESIDENT ST', 'STERLING ST', 'WINTHROP ST', 'BEVERLY ROAD',\n",
       "       'NEWKIRK AV', 'FLATBUSH AV-B.C', 'MORRIS PARK', 'BAYCHESTER AV',\n",
       "       'EASTCHSTER/DYRE', 'ST. GEORGE', 'TOMPKINSVILLE', 'RIT-MANHATTAN',\n",
       "       'RIT-ROOSEVELT', 'PATH NEW WTC', 'PENNSYLVANIA AV',\n",
       "       'SUTTER AV-RUTLD', 'JUNIUS ST', 'ORCHARD BEACH', 'PATH WTC',\n",
       "       'PATH WTC 2', 'LEXINGTON AVE', '5 AVE-59 ST', '57 ST-7 AVE',\n",
       "       '49 ST-7 AVE', '28 ST-BROADWAY', '23 ST-5 AVE', \"8 ST-B'WAY NYU\",\n",
       "       \"PRINCE ST-B'WAY\", 'WHITEHALL ST', 'ESSEX ST', '7 AVE',\n",
       "       'PARKSIDE AVE', 'CHURCH AVE', 'AVE H', 'AVE J', 'AVE M',\n",
       "       'KINGS HIGHWAY', 'AVE U', 'OCEAN PARKWAY', 'BOROUGH HALL/CT',\n",
       "       'DEKALB AVE', 'BARCLAYS CENTER', '9 ST', 'PROSPECT AVE',\n",
       "       'BAY RIDGE AVE', '8 AVE', 'NEW UTRECHT AVE', '18 AVE', '20 AVE',\n",
       "       'BAY PKY-22 AVE', '9 AVE', 'BAY PARKWAY', '25 AVE', 'STILLWELL AVE',\n",
       "       '6 AVE', '3 AVE', 'BEDFORD AVE', 'GRAHAM AVE', 'MONTROSE AVE',\n",
       "       'MORGAN AVE', 'MYRTLE AVE', 'WILSON AVE', 'BUSHWICK AVE',\n",
       "       'ATLANTIC AVE', 'SUTTER AVE', 'LIVONIA AVE', 'NEW LOTS AVE',\n",
       "       'ROCKAWAY PKY', 'JFK HOWARD BCH', 'MARCY AVE', 'FLUSHING AVE',\n",
       "       'GATES AVE', 'ALABAMA AVE', 'NORWOOD AVE', 'ELDERTS LANE',\n",
       "       'FOREST PARKWAY', 'CENTRAL AVE', 'DYCKMAN-200 ST',\n",
       "       '168 ST-BROADWAY', 'CATHEDRL-110 ST', 'HOYT/SCHERMER',\n",
       "       'LAFAYETTE AVE', 'NOSTRAND AVE', 'UTICA AVE', 'RALPH AVE',\n",
       "       'ROCKAWAY AVE', 'BROADWAY-ENY', 'LIBERTY AVE', 'SHEPHERD AVE',\n",
       "       'EUCLID AVE', 'GRANT AVE', 'HUDSON-80 ST', 'BOYD-88 ST',\n",
       "       'OXFORD-104 ST', 'GREENWOOD-111', 'LEFFERTS BLVD',\n",
       "       'AQUEDUCT-N CNDT', 'AQUEDUCT TRACK', 'ROCKAWAY PK 116',\n",
       "       '161 ST-YANKEE', '174-175 ST', 'TREMONT AVE', 'FORDHAM ROAD',\n",
       "       'NORWOOD-205 ST', '7 AVE-53 ST', '5 AVE-53 ST', 'ROOSEVELT AVE',\n",
       "       'ELMHURST AVE', 'GRAND AV-NEWTON', '67 AVE', 'FOREST HILLS-71',\n",
       "       '75 AVE', 'UNION TPK-KEW G', 'VAN WYCK BLVD', 'JAMAICA-179 ST',\n",
       "       'VAN ALSTON-21ST', 'GREENPOINT AVE', 'NASSAU AV', 'BEDFORD/NOSTRAN',\n",
       "       'CLASSON AVE', '47-50 ST-ROCK', '23 ST-6 AVE', '2 AVE',\n",
       "       'DELANCEY ST', '4 AVE', '7 AV-PARK SLOPE', 'DITMAS AVE', 'AVE I',\n",
       "       '22 AVE-BAY PKY', 'AVE N', 'AVE P', 'AVE X', 'NEPTUNE AVE',\n",
       "       'ROOSEVELT IS', 'JAMAICA-VAN WYC', '110 ST-CATHEDRL', '242 ST',\n",
       "       '68ST-HUNTER COL', '138 ST-GR CONC', '149 ST-GR CONC',\n",
       "       'MT EDEN AVE', 'BURNSIDE AVE', 'MOSHOLU PARKWAY', 'WOODLAWN ROAD',\n",
       "       '110 ST-CPN', '148 ST-LENOX', '149 ST-3 AVE', 'JACKSON AVE',\n",
       "       'INTERVALE-163', 'E TREMONT AVE', 'PELHAM PARKWAY', 'ALLERTON AVE',\n",
       "       'BURKE AVE', 'GUN HILL ROAD', 'NEREID AVE', '138 ST-3 AVE',\n",
       "       'BROOK AVE', 'CYPRESS AVE', 'E 143 ST', 'LONGWOOD AVE',\n",
       "       'HUNTS POINT AVE', 'WHITLOCK AVE', 'ELDER AVE', 'MORRISON AVE',\n",
       "       'ST LAWRENCE AVE', 'E 177 ST-PARKCH', 'CASTLE HILL AVE',\n",
       "       'ZEREGA AVE', 'MIDDLETOWN ROAD', 'BUHRE AVE', 'HUNTERS PT AVE',\n",
       "       'BEEBE-39 AVE', 'WASHINGTON-36 A', 'BROADWAY-31 ST', 'GRAND-30 AVE',\n",
       "       'HOYT ST-ASTORIA', 'DITMARS BL-31 S', '46 ST-BLISS ST',\n",
       "       '52 ST-LINCOLN', '61 ST/WOODSIDE', '69 ST-FISK AVE', 'MAIN ST',\n",
       "       'EASTERN PKWY', 'KINGSTON AVE', 'SARATOGA AVE', 'NEWKIRK AVE',\n",
       "       'FLATBUSH AVE', 'BAYCHESTER AVE', 'DYRE AVE'], dtype=object)"
      ]
     },
     "execution_count": 15,
     "metadata": {},
     "output_type": "execute_result"
    }
   ],
   "source": [
    "df.STATION.unique()"
   ]
  },
  {
   "cell_type": "code",
   "execution_count": 16,
   "metadata": {},
   "outputs": [
    {
     "data": {
      "text/plain": [
       "C/A         object\n",
       "UNIT        object\n",
       "SCP         object\n",
       "STATION     object\n",
       "LINENAME    object\n",
       "DIVISION    object\n",
       "DATE        object\n",
       "TIME        object\n",
       "DESC        object\n",
       "ENTRIES     object\n",
       "EXITS       object\n",
       "dtype: object"
      ]
     },
     "execution_count": 16,
     "metadata": {},
     "output_type": "execute_result"
    }
   ],
   "source": [
    "df.dtypes"
   ]
  },
  {
   "cell_type": "code",
   "execution_count": 17,
   "metadata": {
    "collapsed": true
   },
   "outputs": [],
   "source": [
    "# formatting date\n",
    "\n",
    "df['DATETIME'] = pd.to_datetime(df['DATE'] + ' ' + df['TIME'],format=\"%m/%d/%Y %H:%M:%S\",errors='coerce')"
   ]
  },
  {
   "cell_type": "code",
   "execution_count": 18,
   "metadata": {
    "collapsed": true
   },
   "outputs": [],
   "source": [
    "df['TIME'] = df.DATETIME.dt.time"
   ]
  },
  {
   "cell_type": "markdown",
   "metadata": {},
   "source": [
    "df.to_csv(Input_Path+\"preprocessed.csv\", index=False)\n",
    "#df=pd.read_csv(Input_Path+\"preprocessed.csv\",low_memory=False)"
   ]
  },
  {
   "cell_type": "markdown",
   "metadata": {},
   "source": [
    "df=pd.read_csv(Input_Path+\"preprocessed.csv\",low_memory=False)"
   ]
  },
  {
   "cell_type": "code",
   "execution_count": 19,
   "metadata": {},
   "outputs": [
    {
     "data": {
      "text/plain": [
       "0   2016-12-17 11:00:00\n",
       "1   2016-12-17 15:00:00\n",
       "2   2016-12-17 23:00:00\n",
       "3   2016-12-18 03:00:00\n",
       "4   2016-12-18 07:00:00\n",
       "Name: DATETIME, dtype: datetime64[ns]"
      ]
     },
     "execution_count": 19,
     "metadata": {},
     "output_type": "execute_result"
    }
   ],
   "source": [
    "df.DATETIME.head()"
   ]
  },
  {
   "cell_type": "code",
   "execution_count": 20,
   "metadata": {},
   "outputs": [
    {
     "data": {
      "text/plain": [
       "0    11:00:00\n",
       "1    15:00:00\n",
       "2    23:00:00\n",
       "3    03:00:00\n",
       "4    07:00:00\n",
       "Name: TIME, dtype: object"
      ]
     },
     "execution_count": 20,
     "metadata": {},
     "output_type": "execute_result"
    }
   ],
   "source": [
    "df.TIME.head()"
   ]
  },
  {
   "cell_type": "code",
   "execution_count": 21,
   "metadata": {},
   "outputs": [
    {
     "data": {
      "text/plain": [
       "8041774   2014-12-31 00:00:00\n",
       "8041775   2014-12-31 04:00:00\n",
       "8041776   2015-01-01 04:00:00\n",
       "8041777   2015-01-01 08:00:00\n",
       "8041778   2015-01-02 20:00:00\n",
       "Name: DATETIME, dtype: datetime64[ns]"
      ]
     },
     "execution_count": 21,
     "metadata": {},
     "output_type": "execute_result"
    }
   ],
   "source": [
    "df.DATETIME.tail()"
   ]
  },
  {
   "cell_type": "code",
   "execution_count": 22,
   "metadata": {
    "collapsed": true
   },
   "outputs": [],
   "source": [
    "#drop na values \n",
    "df = df.dropna(how='any')"
   ]
  },
  {
   "cell_type": "code",
   "execution_count": 23,
   "metadata": {
    "collapsed": true
   },
   "outputs": [],
   "source": [
    "# Extracting Day, Month, Year , Weekdays\n",
    "import datetime\n",
    "df['Year'] = df['DATETIME'].dt.year.astype(int)\n",
    "df['Month'] = df['DATETIME'].dt.month.astype(int)\n",
    "df['Day'] = df['DATETIME'].dt.day.astype(int)\n",
    "df['Weekdays'] = df['DATETIME'].dt.weekday_name"
   ]
  },
  {
   "cell_type": "code",
   "execution_count": 24,
   "metadata": {},
   "outputs": [
    {
     "data": {
      "text/plain": [
       "array([2016, 2015, 2014], dtype=int64)"
      ]
     },
     "execution_count": 24,
     "metadata": {},
     "output_type": "execute_result"
    }
   ],
   "source": [
    "df.Year.unique()"
   ]
  },
  {
   "cell_type": "code",
   "execution_count": 25,
   "metadata": {
    "collapsed": true
   },
   "outputs": [],
   "source": [
    "df = df.drop(df[df.Year == 2014].index)"
   ]
  },
  {
   "cell_type": "code",
   "execution_count": 26,
   "metadata": {},
   "outputs": [
    {
     "data": {
      "text/plain": [
       "array([2016, 2015], dtype=int64)"
      ]
     },
     "execution_count": 26,
     "metadata": {},
     "output_type": "execute_result"
    }
   ],
   "source": [
    "df.Year.unique()"
   ]
  },
  {
   "cell_type": "code",
   "execution_count": 27,
   "metadata": {},
   "outputs": [
    {
     "data": {
      "text/html": [
       "<div>\n",
       "<style>\n",
       "    .dataframe thead tr:only-child th {\n",
       "        text-align: right;\n",
       "    }\n",
       "\n",
       "    .dataframe thead th {\n",
       "        text-align: left;\n",
       "    }\n",
       "\n",
       "    .dataframe tbody tr th {\n",
       "        vertical-align: top;\n",
       "    }\n",
       "</style>\n",
       "<table border=\"1\" class=\"dataframe\">\n",
       "  <thead>\n",
       "    <tr style=\"text-align: right;\">\n",
       "      <th></th>\n",
       "      <th>C/A</th>\n",
       "      <th>UNIT</th>\n",
       "      <th>SCP</th>\n",
       "      <th>STATION</th>\n",
       "      <th>LINENAME</th>\n",
       "      <th>DIVISION</th>\n",
       "      <th>DATE</th>\n",
       "      <th>TIME</th>\n",
       "      <th>DESC</th>\n",
       "      <th>ENTRIES</th>\n",
       "      <th>EXITS</th>\n",
       "      <th>DATETIME</th>\n",
       "      <th>Year</th>\n",
       "      <th>Month</th>\n",
       "      <th>Day</th>\n",
       "      <th>Weekdays</th>\n",
       "    </tr>\n",
       "  </thead>\n",
       "  <tbody>\n",
       "    <tr>\n",
       "      <th>0</th>\n",
       "      <td>A002</td>\n",
       "      <td>R051</td>\n",
       "      <td>02-00-00</td>\n",
       "      <td>59 ST</td>\n",
       "      <td>NQR456W</td>\n",
       "      <td>BMT</td>\n",
       "      <td>12/17/2016</td>\n",
       "      <td>11:00:00</td>\n",
       "      <td>REGULAR</td>\n",
       "      <td>0005967553</td>\n",
       "      <td>0002022233                                    ...</td>\n",
       "      <td>2016-12-17 11:00:00</td>\n",
       "      <td>2016</td>\n",
       "      <td>12</td>\n",
       "      <td>17</td>\n",
       "      <td>Saturday</td>\n",
       "    </tr>\n",
       "    <tr>\n",
       "      <th>1</th>\n",
       "      <td>A002</td>\n",
       "      <td>R051</td>\n",
       "      <td>02-00-00</td>\n",
       "      <td>59 ST</td>\n",
       "      <td>NQR456W</td>\n",
       "      <td>BMT</td>\n",
       "      <td>12/17/2016</td>\n",
       "      <td>15:00:00</td>\n",
       "      <td>REGULAR</td>\n",
       "      <td>0005967790</td>\n",
       "      <td>0002022331                                    ...</td>\n",
       "      <td>2016-12-17 15:00:00</td>\n",
       "      <td>2016</td>\n",
       "      <td>12</td>\n",
       "      <td>17</td>\n",
       "      <td>Saturday</td>\n",
       "    </tr>\n",
       "    <tr>\n",
       "      <th>2</th>\n",
       "      <td>A002</td>\n",
       "      <td>R051</td>\n",
       "      <td>02-00-00</td>\n",
       "      <td>59 ST</td>\n",
       "      <td>NQR456W</td>\n",
       "      <td>BMT</td>\n",
       "      <td>12/17/2016</td>\n",
       "      <td>23:00:00</td>\n",
       "      <td>REGULAR</td>\n",
       "      <td>0005968429</td>\n",
       "      <td>0002022470                                    ...</td>\n",
       "      <td>2016-12-17 23:00:00</td>\n",
       "      <td>2016</td>\n",
       "      <td>12</td>\n",
       "      <td>17</td>\n",
       "      <td>Saturday</td>\n",
       "    </tr>\n",
       "    <tr>\n",
       "      <th>3</th>\n",
       "      <td>A002</td>\n",
       "      <td>R051</td>\n",
       "      <td>02-00-00</td>\n",
       "      <td>59 ST</td>\n",
       "      <td>NQR456W</td>\n",
       "      <td>BMT</td>\n",
       "      <td>12/18/2016</td>\n",
       "      <td>03:00:00</td>\n",
       "      <td>REGULAR</td>\n",
       "      <td>0005968519</td>\n",
       "      <td>0002022492                                    ...</td>\n",
       "      <td>2016-12-18 03:00:00</td>\n",
       "      <td>2016</td>\n",
       "      <td>12</td>\n",
       "      <td>18</td>\n",
       "      <td>Sunday</td>\n",
       "    </tr>\n",
       "    <tr>\n",
       "      <th>4</th>\n",
       "      <td>A002</td>\n",
       "      <td>R051</td>\n",
       "      <td>02-00-00</td>\n",
       "      <td>59 ST</td>\n",
       "      <td>NQR456W</td>\n",
       "      <td>BMT</td>\n",
       "      <td>12/18/2016</td>\n",
       "      <td>07:00:00</td>\n",
       "      <td>REGULAR</td>\n",
       "      <td>0005968527</td>\n",
       "      <td>0002022504                                    ...</td>\n",
       "      <td>2016-12-18 07:00:00</td>\n",
       "      <td>2016</td>\n",
       "      <td>12</td>\n",
       "      <td>18</td>\n",
       "      <td>Sunday</td>\n",
       "    </tr>\n",
       "  </tbody>\n",
       "</table>\n",
       "</div>"
      ],
      "text/plain": [
       "    C/A  UNIT       SCP STATION LINENAME DIVISION        DATE      TIME  \\\n",
       "0  A002  R051  02-00-00   59 ST  NQR456W      BMT  12/17/2016  11:00:00   \n",
       "1  A002  R051  02-00-00   59 ST  NQR456W      BMT  12/17/2016  15:00:00   \n",
       "2  A002  R051  02-00-00   59 ST  NQR456W      BMT  12/17/2016  23:00:00   \n",
       "3  A002  R051  02-00-00   59 ST  NQR456W      BMT  12/18/2016  03:00:00   \n",
       "4  A002  R051  02-00-00   59 ST  NQR456W      BMT  12/18/2016  07:00:00   \n",
       "\n",
       "      DESC     ENTRIES                                              EXITS  \\\n",
       "0  REGULAR  0005967553  0002022233                                    ...   \n",
       "1  REGULAR  0005967790  0002022331                                    ...   \n",
       "2  REGULAR  0005968429  0002022470                                    ...   \n",
       "3  REGULAR  0005968519  0002022492                                    ...   \n",
       "4  REGULAR  0005968527  0002022504                                    ...   \n",
       "\n",
       "             DATETIME  Year  Month  Day  Weekdays  \n",
       "0 2016-12-17 11:00:00  2016     12   17  Saturday  \n",
       "1 2016-12-17 15:00:00  2016     12   17  Saturday  \n",
       "2 2016-12-17 23:00:00  2016     12   17  Saturday  \n",
       "3 2016-12-18 03:00:00  2016     12   18    Sunday  \n",
       "4 2016-12-18 07:00:00  2016     12   18    Sunday  "
      ]
     },
     "execution_count": 27,
     "metadata": {},
     "output_type": "execute_result"
    }
   ],
   "source": [
    "df.head()"
   ]
  },
  {
   "cell_type": "code",
   "execution_count": 27,
   "metadata": {
    "collapsed": true
   },
   "outputs": [],
   "source": [
    "##df.to_csv(Input_Path+\"tableau_data.csv\")"
   ]
  },
  {
   "cell_type": "markdown",
   "metadata": {},
   "source": [
    "## Exploratory Data Analysis"
   ]
  },
  {
   "cell_type": "markdown",
   "metadata": {},
   "source": [
    "### Which station has the most number of units"
   ]
  },
  {
   "cell_type": "code",
   "execution_count": 28,
   "metadata": {
    "collapsed": true
   },
   "outputs": [],
   "source": [
    "df_aggr = df[['UNIT','STATION']].groupby(['STATION'],sort = True).aggregate({'UNIT': pd.Series.nunique}).sort_values(by = 'UNIT', ascending = False ).reset_index()"
   ]
  },
  {
   "cell_type": "code",
   "execution_count": 29,
   "metadata": {},
   "outputs": [
    {
     "data": {
      "text/html": [
       "<div>\n",
       "<style>\n",
       "    .dataframe thead tr:only-child th {\n",
       "        text-align: right;\n",
       "    }\n",
       "\n",
       "    .dataframe thead th {\n",
       "        text-align: left;\n",
       "    }\n",
       "\n",
       "    .dataframe tbody tr th {\n",
       "        vertical-align: top;\n",
       "    }\n",
       "</style>\n",
       "<table border=\"1\" class=\"dataframe\">\n",
       "  <thead>\n",
       "    <tr style=\"text-align: right;\">\n",
       "      <th></th>\n",
       "      <th>STATION</th>\n",
       "      <th>UNIT</th>\n",
       "    </tr>\n",
       "  </thead>\n",
       "  <tbody>\n",
       "    <tr>\n",
       "      <th>0</th>\n",
       "      <td>23 ST</td>\n",
       "      <td>6</td>\n",
       "    </tr>\n",
       "    <tr>\n",
       "      <th>1</th>\n",
       "      <td>CANAL ST</td>\n",
       "      <td>5</td>\n",
       "    </tr>\n",
       "    <tr>\n",
       "      <th>2</th>\n",
       "      <td>86 ST</td>\n",
       "      <td>5</td>\n",
       "    </tr>\n",
       "    <tr>\n",
       "      <th>3</th>\n",
       "      <td>125 ST</td>\n",
       "      <td>4</td>\n",
       "    </tr>\n",
       "    <tr>\n",
       "      <th>4</th>\n",
       "      <td>34 ST-PENN STA</td>\n",
       "      <td>4</td>\n",
       "    </tr>\n",
       "  </tbody>\n",
       "</table>\n",
       "</div>"
      ],
      "text/plain": [
       "          STATION  UNIT\n",
       "0           23 ST     6\n",
       "1        CANAL ST     5\n",
       "2           86 ST     5\n",
       "3          125 ST     4\n",
       "4  34 ST-PENN STA     4"
      ]
     },
     "execution_count": 29,
     "metadata": {},
     "output_type": "execute_result"
    }
   ],
   "source": [
    "df_aggr.head()"
   ]
  },
  {
   "cell_type": "code",
   "execution_count": 30,
   "metadata": {},
   "outputs": [
    {
     "data": {
      "text/plain": [
       "[<matplotlib.text.Text at 0x1b48087ee10>,\n",
       " <matplotlib.text.Text at 0x1b501448b70>]"
      ]
     },
     "execution_count": 30,
     "metadata": {},
     "output_type": "execute_result"
    },
    {
     "data": {
      "image/png": "[encoded data removed]",
      "text/plain": [
       "<matplotlib.figure.Figure at 0x1b4f4392208>"
      ]
     },
     "metadata": {},
     "output_type": "display_data"
    }
   ],
   "source": [
    "graph_1 = sns.barplot(x=\"UNIT\",y=\"STATION\", data=df_aggr.head(20), palette=\"BuGn_r\")\n",
    "graph_1.set(xlabel='Number of Units', ylabel='Station')"
   ]
  },
  {
   "cell_type": "markdown",
   "metadata": {
    "collapsed": true
   },
   "source": [
    "### What is the total number of entries & exits across the subway system for 2015 and 2016"
   ]
  },
  {
   "cell_type": "code",
   "execution_count": 31,
   "metadata": {},
   "outputs": [
    {
     "data": {
      "text/plain": [
       "Month\n",
       "1     346994\n",
       "2     308123\n",
       "3     339135\n",
       "4     328407\n",
       "5     340089\n",
       "6     329372\n",
       "7     340271\n",
       "8     339554\n",
       "9     332381\n",
       "10    342389\n",
       "11    333006\n",
       "12    343177\n",
       "Name: ENTRIES, dtype: int64"
      ]
     },
     "execution_count": 31,
     "metadata": {},
     "output_type": "execute_result"
    }
   ],
   "source": [
    "# Monthly Entry count for 2015\n",
    "df[df.Year == 2015].groupby(['Month'])['ENTRIES'].count()"
   ]
  },
  {
   "cell_type": "code",
   "execution_count": 32,
   "metadata": {},
   "outputs": [
    {
     "data": {
      "text/plain": [
       "Month\n",
       "1     344053\n",
       "2     327258\n",
       "3     344390\n",
       "4     332355\n",
       "5     345002\n",
       "6     333120\n",
       "7     341703\n",
       "8     340314\n",
       "9     331678\n",
       "10    339727\n",
       "11    330284\n",
       "12    254097\n",
       "Name: ENTRIES, dtype: int64"
      ]
     },
     "execution_count": 32,
     "metadata": {},
     "output_type": "execute_result"
    }
   ],
   "source": [
    "# Monthly Entry count for 2016\n",
    "df[df.Year == 2016].groupby(['Month'])['ENTRIES'].count()"
   ]
  },
  {
   "cell_type": "code",
   "execution_count": 33,
   "metadata": {},
   "outputs": [
    {
     "data": {
      "text/plain": [
       "Month\n",
       "1     691047\n",
       "2     635381\n",
       "3     683525\n",
       "4     660762\n",
       "5     685091\n",
       "6     662492\n",
       "7     681974\n",
       "8     679868\n",
       "9     664059\n",
       "10    682116\n",
       "11    663290\n",
       "12    597274\n",
       "Name: ENTRIES, dtype: int64"
      ]
     },
     "execution_count": 33,
     "metadata": {},
     "output_type": "execute_result"
    }
   ],
   "source": [
    "# for both 2015 and 2016 for Entries\n",
    "df.groupby(['Month'],sort = True)['ENTRIES'].count()"
   ]
  },
  {
   "cell_type": "code",
   "execution_count": 34,
   "metadata": {
    "collapsed": true
   },
   "outputs": [],
   "source": [
    "# Entries by monthly\n",
    "df_monthly = df[['ENTRIES','Month']].groupby(['Month'],sort = True).count().sort_values(by =['ENTRIES'], ascending = False).reset_index()"
   ]
  },
  {
   "cell_type": "code",
   "execution_count": 35,
   "metadata": {},
   "outputs": [
    {
     "data": {
      "text/plain": [
       "[<matplotlib.text.Text at 0x1b480c8ab70>,\n",
       " <matplotlib.text.Text at 0x1b480c2ecc0>]"
      ]
     },
     "execution_count": 35,
     "metadata": {},
     "output_type": "execute_result"
    },
    {
     "data": {
      "image/png": "[encoded data removed]",
      "text/plain": [
       "<matplotlib.figure.Figure at 0x1b48003d630>"
      ]
     },
     "metadata": {},
     "output_type": "display_data"
    }
   ],
   "source": [
    "ax = sns.barplot(x='Month', y='ENTRIES', data=df_monthly)\n",
    "ax.set(xlabel='Months', ylabel='Count of Entries')"
   ]
  },
  {
   "cell_type": "code",
   "execution_count": 36,
   "metadata": {},
   "outputs": [
    {
     "data": {
      "text/plain": [
       "Month\n",
       "1     691047\n",
       "2     635381\n",
       "3     683525\n",
       "4     660762\n",
       "5     685091\n",
       "6     662492\n",
       "7     681974\n",
       "8     679868\n",
       "9     664059\n",
       "10    682116\n",
       "11    663290\n",
       "12    597274\n",
       "Name: EXITS, dtype: int64"
      ]
     },
     "execution_count": 36,
     "metadata": {},
     "output_type": "execute_result"
    }
   ],
   "source": [
    "# monthly exit counts for year 2015 and 2016\n",
    "df.groupby(['Month'])['EXITS'].count()"
   ]
  },
  {
   "cell_type": "code",
   "execution_count": 37,
   "metadata": {
    "collapsed": true
   },
   "outputs": [],
   "source": [
    "# Exits by monthly\n",
    "df_monthly_exits = df[['EXITS','Month']].groupby(['Month'],sort = True).count().sort_values(by =['EXITS'], ascending = False).reset_index()"
   ]
  },
  {
   "cell_type": "code",
   "execution_count": 38,
   "metadata": {},
   "outputs": [
    {
     "data": {
      "text/plain": [
       "[<matplotlib.text.Text at 0x1b480d8de48>,\n",
       " <matplotlib.text.Text at 0x1b480d3b748>]"
      ]
     },
     "execution_count": 38,
     "metadata": {},
     "output_type": "execute_result"
    },
    {
     "data": {
      "image/png": "[encoded data removed]",
      "text/plain": [
       "<matplotlib.figure.Figure at 0x1b480cb1780>"
      ]
     },
     "metadata": {},
     "output_type": "display_data"
    }
   ],
   "source": [
    "ay = sns.barplot(x='Month', y='EXITS', data=df_monthly_exits)\n",
    "ay.set(xlabel='Months', ylabel='Count of Exits')"
   ]
  },
  {
   "cell_type": "code",
   "execution_count": 39,
   "metadata": {},
   "outputs": [
    {
     "name": "stdout",
     "output_type": "stream",
     "text": [
      "15973758\n"
     ]
    }
   ],
   "source": [
    "# total count of exits and entries for both the years\n",
    "total = df.groupby(['Month'])['EXITS'].count().sum() + df.groupby(['Month'])['ENTRIES'].count().sum()\n",
    "print(total)"
   ]
  },
  {
   "cell_type": "code",
   "execution_count": 40,
   "metadata": {},
   "outputs": [
    {
     "name": "stdout",
     "output_type": "stream",
     "text": [
      "Year\n",
      "2015    4022898\n",
      "2016    3963981\n",
      "Name: ENTRIES, dtype: int64\n"
     ]
    }
   ],
   "source": [
    "# total number of entries for both the years\n",
    "total_no_of_Entries = df.groupby(['Year'],sort = True)['ENTRIES'].count()\n",
    "print(total_no_of_Entries)"
   ]
  },
  {
   "cell_type": "code",
   "execution_count": 41,
   "metadata": {
    "collapsed": true
   },
   "outputs": [],
   "source": [
    "# Yearly Entries\n",
    "df_Yearly_entries = df[['ENTRIES','Year']].groupby(['Year'],sort = True).count().sort_values(by =['ENTRIES'], ascending = False).reset_index()"
   ]
  },
  {
   "cell_type": "code",
   "execution_count": 42,
   "metadata": {},
   "outputs": [
    {
     "data": {
      "text/plain": [
       "[<matplotlib.text.Text at 0x1b480ea2898>,\n",
       " <matplotlib.text.Text at 0x1b480e79a20>]"
      ]
     },
     "execution_count": 42,
     "metadata": {},
     "output_type": "execute_result"
    },
    {
     "data": {
      "image/png": "[encoded data removed]",
      "text/plain": [
       "<matplotlib.figure.Figure at 0x1b480b49630>"
      ]
     },
     "metadata": {},
     "output_type": "display_data"
    }
   ],
   "source": [
    "az = sns.barplot(x='Year', y='ENTRIES', data=df_Yearly_entries)\n",
    "az.set(xlabel='Year', ylabel='Count of Entries')"
   ]
  },
  {
   "cell_type": "code",
   "execution_count": 43,
   "metadata": {},
   "outputs": [
    {
     "data": {
      "text/html": [
       "<div>\n",
       "<style>\n",
       "    .dataframe thead tr:only-child th {\n",
       "        text-align: right;\n",
       "    }\n",
       "\n",
       "    .dataframe thead th {\n",
       "        text-align: left;\n",
       "    }\n",
       "\n",
       "    .dataframe tbody tr th {\n",
       "        vertical-align: top;\n",
       "    }\n",
       "</style>\n",
       "<table border=\"1\" class=\"dataframe\">\n",
       "  <thead>\n",
       "    <tr style=\"text-align: right;\">\n",
       "      <th></th>\n",
       "      <th>C/A</th>\n",
       "      <th>UNIT</th>\n",
       "      <th>SCP</th>\n",
       "      <th>STATION</th>\n",
       "      <th>LINENAME</th>\n",
       "      <th>DIVISION</th>\n",
       "      <th>DATE</th>\n",
       "      <th>TIME</th>\n",
       "      <th>DESC</th>\n",
       "      <th>ENTRIES</th>\n",
       "      <th>EXITS</th>\n",
       "      <th>DATETIME</th>\n",
       "      <th>Month</th>\n",
       "      <th>Day</th>\n",
       "      <th>Weekdays</th>\n",
       "    </tr>\n",
       "    <tr>\n",
       "      <th>Year</th>\n",
       "      <th></th>\n",
       "      <th></th>\n",
       "      <th></th>\n",
       "      <th></th>\n",
       "      <th></th>\n",
       "      <th></th>\n",
       "      <th></th>\n",
       "      <th></th>\n",
       "      <th></th>\n",
       "      <th></th>\n",
       "      <th></th>\n",
       "      <th></th>\n",
       "      <th></th>\n",
       "      <th></th>\n",
       "      <th></th>\n",
       "    </tr>\n",
       "  </thead>\n",
       "  <tbody>\n",
       "    <tr>\n",
       "      <th>2015</th>\n",
       "      <td>4022898</td>\n",
       "      <td>4022898</td>\n",
       "      <td>4022898</td>\n",
       "      <td>4022898</td>\n",
       "      <td>4022898</td>\n",
       "      <td>4022898</td>\n",
       "      <td>4022898</td>\n",
       "      <td>4022898</td>\n",
       "      <td>4022898</td>\n",
       "      <td>4022898</td>\n",
       "      <td>4022898</td>\n",
       "      <td>4022898</td>\n",
       "      <td>4022898</td>\n",
       "      <td>4022898</td>\n",
       "      <td>4022898</td>\n",
       "    </tr>\n",
       "    <tr>\n",
       "      <th>2016</th>\n",
       "      <td>3963981</td>\n",
       "      <td>3963981</td>\n",
       "      <td>3963981</td>\n",
       "      <td>3963981</td>\n",
       "      <td>3963981</td>\n",
       "      <td>3963981</td>\n",
       "      <td>3963981</td>\n",
       "      <td>3963981</td>\n",
       "      <td>3963981</td>\n",
       "      <td>3963981</td>\n",
       "      <td>3963981</td>\n",
       "      <td>3963981</td>\n",
       "      <td>3963981</td>\n",
       "      <td>3963981</td>\n",
       "      <td>3963981</td>\n",
       "    </tr>\n",
       "  </tbody>\n",
       "</table>\n",
       "</div>"
      ],
      "text/plain": [
       "          C/A     UNIT      SCP  STATION  LINENAME  DIVISION     DATE  \\\n",
       "Year                                                                    \n",
       "2015  4022898  4022898  4022898  4022898   4022898   4022898  4022898   \n",
       "2016  3963981  3963981  3963981  3963981   3963981   3963981  3963981   \n",
       "\n",
       "         TIME     DESC  ENTRIES    EXITS  DATETIME    Month      Day  Weekdays  \n",
       "Year                                                                            \n",
       "2015  4022898  4022898  4022898  4022898   4022898  4022898  4022898   4022898  \n",
       "2016  3963981  3963981  3963981  3963981   3963981  3963981  3963981   3963981  "
      ]
     },
     "execution_count": 43,
     "metadata": {},
     "output_type": "execute_result"
    }
   ],
   "source": [
    "# yearly count of all attributes \n",
    "df.groupby(['Year']).count()"
   ]
  },
  {
   "cell_type": "code",
   "execution_count": 44,
   "metadata": {},
   "outputs": [
    {
     "name": "stdout",
     "output_type": "stream",
     "text": [
      "Month\n",
      "1     691047\n",
      "2     635381\n",
      "3     683525\n",
      "4     660762\n",
      "5     685091\n",
      "6     662492\n",
      "7     681974\n",
      "8     679868\n",
      "9     664059\n",
      "10    682116\n",
      "11    663290\n",
      "12    597274\n",
      "Name: EXITS, dtype: int64\n"
     ]
    }
   ],
   "source": [
    "# Monthly count of exits for both the years 2015 & 2016\n",
    "total_no_of_Exits = df.groupby(['Month'],sort = True)['EXITS'].count()\n",
    "print(total_no_of_Exits)"
   ]
  },
  {
   "cell_type": "code",
   "execution_count": 45,
   "metadata": {
    "collapsed": true
   },
   "outputs": [],
   "source": [
    "df1 = df.copy()"
   ]
  },
  {
   "cell_type": "code",
   "execution_count": 46,
   "metadata": {},
   "outputs": [
    {
     "data": {
      "text/html": [
       "<div>\n",
       "<style>\n",
       "    .dataframe thead tr:only-child th {\n",
       "        text-align: right;\n",
       "    }\n",
       "\n",
       "    .dataframe thead th {\n",
       "        text-align: left;\n",
       "    }\n",
       "\n",
       "    .dataframe tbody tr th {\n",
       "        vertical-align: top;\n",
       "    }\n",
       "</style>\n",
       "<table border=\"1\" class=\"dataframe\">\n",
       "  <thead>\n",
       "    <tr style=\"text-align: right;\">\n",
       "      <th></th>\n",
       "      <th>C/A</th>\n",
       "      <th>UNIT</th>\n",
       "      <th>SCP</th>\n",
       "      <th>STATION</th>\n",
       "      <th>LINENAME</th>\n",
       "      <th>DIVISION</th>\n",
       "      <th>DATE</th>\n",
       "      <th>TIME</th>\n",
       "      <th>DESC</th>\n",
       "      <th>ENTRIES</th>\n",
       "      <th>EXITS</th>\n",
       "      <th>DATETIME</th>\n",
       "      <th>Year</th>\n",
       "      <th>Month</th>\n",
       "      <th>Day</th>\n",
       "      <th>Weekdays</th>\n",
       "    </tr>\n",
       "  </thead>\n",
       "  <tbody>\n",
       "    <tr>\n",
       "      <th>0</th>\n",
       "      <td>A002</td>\n",
       "      <td>R051</td>\n",
       "      <td>02-00-00</td>\n",
       "      <td>59 ST</td>\n",
       "      <td>NQR456W</td>\n",
       "      <td>BMT</td>\n",
       "      <td>12/17/2016</td>\n",
       "      <td>11:00:00</td>\n",
       "      <td>REGULAR</td>\n",
       "      <td>0005967553</td>\n",
       "      <td>0002022233                                    ...</td>\n",
       "      <td>2016-12-17 11:00:00</td>\n",
       "      <td>2016</td>\n",
       "      <td>12</td>\n",
       "      <td>17</td>\n",
       "      <td>Saturday</td>\n",
       "    </tr>\n",
       "    <tr>\n",
       "      <th>1</th>\n",
       "      <td>A002</td>\n",
       "      <td>R051</td>\n",
       "      <td>02-00-00</td>\n",
       "      <td>59 ST</td>\n",
       "      <td>NQR456W</td>\n",
       "      <td>BMT</td>\n",
       "      <td>12/17/2016</td>\n",
       "      <td>15:00:00</td>\n",
       "      <td>REGULAR</td>\n",
       "      <td>0005967790</td>\n",
       "      <td>0002022331                                    ...</td>\n",
       "      <td>2016-12-17 15:00:00</td>\n",
       "      <td>2016</td>\n",
       "      <td>12</td>\n",
       "      <td>17</td>\n",
       "      <td>Saturday</td>\n",
       "    </tr>\n",
       "    <tr>\n",
       "      <th>2</th>\n",
       "      <td>A002</td>\n",
       "      <td>R051</td>\n",
       "      <td>02-00-00</td>\n",
       "      <td>59 ST</td>\n",
       "      <td>NQR456W</td>\n",
       "      <td>BMT</td>\n",
       "      <td>12/17/2016</td>\n",
       "      <td>23:00:00</td>\n",
       "      <td>REGULAR</td>\n",
       "      <td>0005968429</td>\n",
       "      <td>0002022470                                    ...</td>\n",
       "      <td>2016-12-17 23:00:00</td>\n",
       "      <td>2016</td>\n",
       "      <td>12</td>\n",
       "      <td>17</td>\n",
       "      <td>Saturday</td>\n",
       "    </tr>\n",
       "    <tr>\n",
       "      <th>3</th>\n",
       "      <td>A002</td>\n",
       "      <td>R051</td>\n",
       "      <td>02-00-00</td>\n",
       "      <td>59 ST</td>\n",
       "      <td>NQR456W</td>\n",
       "      <td>BMT</td>\n",
       "      <td>12/18/2016</td>\n",
       "      <td>03:00:00</td>\n",
       "      <td>REGULAR</td>\n",
       "      <td>0005968519</td>\n",
       "      <td>0002022492                                    ...</td>\n",
       "      <td>2016-12-18 03:00:00</td>\n",
       "      <td>2016</td>\n",
       "      <td>12</td>\n",
       "      <td>18</td>\n",
       "      <td>Sunday</td>\n",
       "    </tr>\n",
       "    <tr>\n",
       "      <th>4</th>\n",
       "      <td>A002</td>\n",
       "      <td>R051</td>\n",
       "      <td>02-00-00</td>\n",
       "      <td>59 ST</td>\n",
       "      <td>NQR456W</td>\n",
       "      <td>BMT</td>\n",
       "      <td>12/18/2016</td>\n",
       "      <td>07:00:00</td>\n",
       "      <td>REGULAR</td>\n",
       "      <td>0005968527</td>\n",
       "      <td>0002022504                                    ...</td>\n",
       "      <td>2016-12-18 07:00:00</td>\n",
       "      <td>2016</td>\n",
       "      <td>12</td>\n",
       "      <td>18</td>\n",
       "      <td>Sunday</td>\n",
       "    </tr>\n",
       "  </tbody>\n",
       "</table>\n",
       "</div>"
      ],
      "text/plain": [
       "    C/A  UNIT       SCP STATION LINENAME DIVISION        DATE      TIME  \\\n",
       "0  A002  R051  02-00-00   59 ST  NQR456W      BMT  12/17/2016  11:00:00   \n",
       "1  A002  R051  02-00-00   59 ST  NQR456W      BMT  12/17/2016  15:00:00   \n",
       "2  A002  R051  02-00-00   59 ST  NQR456W      BMT  12/17/2016  23:00:00   \n",
       "3  A002  R051  02-00-00   59 ST  NQR456W      BMT  12/18/2016  03:00:00   \n",
       "4  A002  R051  02-00-00   59 ST  NQR456W      BMT  12/18/2016  07:00:00   \n",
       "\n",
       "      DESC     ENTRIES                                              EXITS  \\\n",
       "0  REGULAR  0005967553  0002022233                                    ...   \n",
       "1  REGULAR  0005967790  0002022331                                    ...   \n",
       "2  REGULAR  0005968429  0002022470                                    ...   \n",
       "3  REGULAR  0005968519  0002022492                                    ...   \n",
       "4  REGULAR  0005968527  0002022504                                    ...   \n",
       "\n",
       "             DATETIME  Year  Month  Day  Weekdays  \n",
       "0 2016-12-17 11:00:00  2016     12   17  Saturday  \n",
       "1 2016-12-17 15:00:00  2016     12   17  Saturday  \n",
       "2 2016-12-17 23:00:00  2016     12   17  Saturday  \n",
       "3 2016-12-18 03:00:00  2016     12   18    Sunday  \n",
       "4 2016-12-18 07:00:00  2016     12   18    Sunday  "
      ]
     },
     "execution_count": 46,
     "metadata": {},
     "output_type": "execute_result"
    }
   ],
   "source": [
    "df1.head()"
   ]
  },
  {
   "cell_type": "code",
   "execution_count": 47,
   "metadata": {},
   "outputs": [
    {
     "data": {
      "text/html": [
       "<div>\n",
       "<style>\n",
       "    .dataframe thead tr:only-child th {\n",
       "        text-align: right;\n",
       "    }\n",
       "\n",
       "    .dataframe thead th {\n",
       "        text-align: left;\n",
       "    }\n",
       "\n",
       "    .dataframe tbody tr th {\n",
       "        vertical-align: top;\n",
       "    }\n",
       "</style>\n",
       "<table border=\"1\" class=\"dataframe\">\n",
       "  <thead>\n",
       "    <tr style=\"text-align: right;\">\n",
       "      <th></th>\n",
       "      <th>C/A</th>\n",
       "      <th>UNIT</th>\n",
       "      <th>SCP</th>\n",
       "      <th>STATION</th>\n",
       "      <th>LINENAME</th>\n",
       "      <th>DIVISION</th>\n",
       "      <th>DATE</th>\n",
       "      <th>TIME</th>\n",
       "      <th>DESC</th>\n",
       "      <th>ENTRIES</th>\n",
       "      <th>EXITS</th>\n",
       "      <th>DATETIME</th>\n",
       "      <th>Year</th>\n",
       "      <th>Month</th>\n",
       "      <th>Day</th>\n",
       "      <th>Weekdays</th>\n",
       "    </tr>\n",
       "  </thead>\n",
       "  <tbody>\n",
       "    <tr>\n",
       "      <th>0</th>\n",
       "      <td>A002</td>\n",
       "      <td>R051</td>\n",
       "      <td>02-00-00</td>\n",
       "      <td>59 ST</td>\n",
       "      <td>NQR456W</td>\n",
       "      <td>BMT</td>\n",
       "      <td>12/17/2016</td>\n",
       "      <td>11:00:00</td>\n",
       "      <td>REGULAR</td>\n",
       "      <td>0005967553</td>\n",
       "      <td>0002022233                                    ...</td>\n",
       "      <td>2016-12-17 11:00:00</td>\n",
       "      <td>2016</td>\n",
       "      <td>12</td>\n",
       "      <td>17</td>\n",
       "      <td>Saturday</td>\n",
       "    </tr>\n",
       "    <tr>\n",
       "      <th>1</th>\n",
       "      <td>A002</td>\n",
       "      <td>R051</td>\n",
       "      <td>02-00-00</td>\n",
       "      <td>59 ST</td>\n",
       "      <td>NQR456W</td>\n",
       "      <td>BMT</td>\n",
       "      <td>12/17/2016</td>\n",
       "      <td>15:00:00</td>\n",
       "      <td>REGULAR</td>\n",
       "      <td>0005967790</td>\n",
       "      <td>0002022331                                    ...</td>\n",
       "      <td>2016-12-17 15:00:00</td>\n",
       "      <td>2016</td>\n",
       "      <td>12</td>\n",
       "      <td>17</td>\n",
       "      <td>Saturday</td>\n",
       "    </tr>\n",
       "    <tr>\n",
       "      <th>2</th>\n",
       "      <td>A002</td>\n",
       "      <td>R051</td>\n",
       "      <td>02-00-00</td>\n",
       "      <td>59 ST</td>\n",
       "      <td>NQR456W</td>\n",
       "      <td>BMT</td>\n",
       "      <td>12/17/2016</td>\n",
       "      <td>23:00:00</td>\n",
       "      <td>REGULAR</td>\n",
       "      <td>0005968429</td>\n",
       "      <td>0002022470                                    ...</td>\n",
       "      <td>2016-12-17 23:00:00</td>\n",
       "      <td>2016</td>\n",
       "      <td>12</td>\n",
       "      <td>17</td>\n",
       "      <td>Saturday</td>\n",
       "    </tr>\n",
       "    <tr>\n",
       "      <th>3</th>\n",
       "      <td>A002</td>\n",
       "      <td>R051</td>\n",
       "      <td>02-00-00</td>\n",
       "      <td>59 ST</td>\n",
       "      <td>NQR456W</td>\n",
       "      <td>BMT</td>\n",
       "      <td>12/18/2016</td>\n",
       "      <td>03:00:00</td>\n",
       "      <td>REGULAR</td>\n",
       "      <td>0005968519</td>\n",
       "      <td>0002022492                                    ...</td>\n",
       "      <td>2016-12-18 03:00:00</td>\n",
       "      <td>2016</td>\n",
       "      <td>12</td>\n",
       "      <td>18</td>\n",
       "      <td>Sunday</td>\n",
       "    </tr>\n",
       "    <tr>\n",
       "      <th>4</th>\n",
       "      <td>A002</td>\n",
       "      <td>R051</td>\n",
       "      <td>02-00-00</td>\n",
       "      <td>59 ST</td>\n",
       "      <td>NQR456W</td>\n",
       "      <td>BMT</td>\n",
       "      <td>12/18/2016</td>\n",
       "      <td>07:00:00</td>\n",
       "      <td>REGULAR</td>\n",
       "      <td>0005968527</td>\n",
       "      <td>0002022504                                    ...</td>\n",
       "      <td>2016-12-18 07:00:00</td>\n",
       "      <td>2016</td>\n",
       "      <td>12</td>\n",
       "      <td>18</td>\n",
       "      <td>Sunday</td>\n",
       "    </tr>\n",
       "  </tbody>\n",
       "</table>\n",
       "</div>"
      ],
      "text/plain": [
       "    C/A  UNIT       SCP STATION LINENAME DIVISION        DATE      TIME  \\\n",
       "0  A002  R051  02-00-00   59 ST  NQR456W      BMT  12/17/2016  11:00:00   \n",
       "1  A002  R051  02-00-00   59 ST  NQR456W      BMT  12/17/2016  15:00:00   \n",
       "2  A002  R051  02-00-00   59 ST  NQR456W      BMT  12/17/2016  23:00:00   \n",
       "3  A002  R051  02-00-00   59 ST  NQR456W      BMT  12/18/2016  03:00:00   \n",
       "4  A002  R051  02-00-00   59 ST  NQR456W      BMT  12/18/2016  07:00:00   \n",
       "\n",
       "      DESC     ENTRIES                                              EXITS  \\\n",
       "0  REGULAR  0005967553  0002022233                                    ...   \n",
       "1  REGULAR  0005967790  0002022331                                    ...   \n",
       "2  REGULAR  0005968429  0002022470                                    ...   \n",
       "3  REGULAR  0005968519  0002022492                                    ...   \n",
       "4  REGULAR  0005968527  0002022504                                    ...   \n",
       "\n",
       "             DATETIME  Year  Month  Day  Weekdays  \n",
       "0 2016-12-17 11:00:00  2016     12   17  Saturday  \n",
       "1 2016-12-17 15:00:00  2016     12   17  Saturday  \n",
       "2 2016-12-17 23:00:00  2016     12   17  Saturday  \n",
       "3 2016-12-18 03:00:00  2016     12   18    Sunday  \n",
       "4 2016-12-18 07:00:00  2016     12   18    Sunday  "
      ]
     },
     "execution_count": 47,
     "metadata": {},
     "output_type": "execute_result"
    }
   ],
   "source": [
    "df.head()"
   ]
  },
  {
   "cell_type": "markdown",
   "metadata": {
    "collapsed": true
   },
   "source": [
    "### Busyness is defined as the sum of entries and exits.  \n",
    "### a)Which station was the busiest\n",
    "### b)Busiest Turnstile : {C/A, Unit, SCP}\n",
    "\n"
   ]
  },
  {
   "cell_type": "markdown",
   "metadata": {
    "collapsed": true
   },
   "source": [
    "#merge the columns that define a turnstile\n",
    "df['TURNSTILE'] = df['C/A'] + '  ' + df['UNIT'] + '  ' + df['SCP']"
   ]
  },
  {
   "cell_type": "code",
   "execution_count": 48,
   "metadata": {
    "collapsed": true
   },
   "outputs": [],
   "source": [
    "df['TOTAL_COUNT']= df['ENTRIES'] + df['EXITS']"
   ]
  },
  {
   "cell_type": "code",
   "execution_count": 49,
   "metadata": {},
   "outputs": [
    {
     "data": {
      "text/html": [
       "<div>\n",
       "<style>\n",
       "    .dataframe thead tr:only-child th {\n",
       "        text-align: right;\n",
       "    }\n",
       "\n",
       "    .dataframe thead th {\n",
       "        text-align: left;\n",
       "    }\n",
       "\n",
       "    .dataframe tbody tr th {\n",
       "        vertical-align: top;\n",
       "    }\n",
       "</style>\n",
       "<table border=\"1\" class=\"dataframe\">\n",
       "  <thead>\n",
       "    <tr style=\"text-align: right;\">\n",
       "      <th></th>\n",
       "      <th>C/A</th>\n",
       "      <th>UNIT</th>\n",
       "      <th>SCP</th>\n",
       "      <th>STATION</th>\n",
       "      <th>LINENAME</th>\n",
       "      <th>DIVISION</th>\n",
       "      <th>DATE</th>\n",
       "      <th>TIME</th>\n",
       "      <th>DESC</th>\n",
       "      <th>ENTRIES</th>\n",
       "      <th>EXITS</th>\n",
       "      <th>DATETIME</th>\n",
       "      <th>Year</th>\n",
       "      <th>Month</th>\n",
       "      <th>Day</th>\n",
       "      <th>Weekdays</th>\n",
       "      <th>TOTAL_COUNT</th>\n",
       "    </tr>\n",
       "  </thead>\n",
       "  <tbody>\n",
       "    <tr>\n",
       "      <th>0</th>\n",
       "      <td>A002</td>\n",
       "      <td>R051</td>\n",
       "      <td>02-00-00</td>\n",
       "      <td>59 ST</td>\n",
       "      <td>NQR456W</td>\n",
       "      <td>BMT</td>\n",
       "      <td>12/17/2016</td>\n",
       "      <td>11:00:00</td>\n",
       "      <td>REGULAR</td>\n",
       "      <td>0005967553</td>\n",
       "      <td>0002022233                                    ...</td>\n",
       "      <td>2016-12-17 11:00:00</td>\n",
       "      <td>2016</td>\n",
       "      <td>12</td>\n",
       "      <td>17</td>\n",
       "      <td>Saturday</td>\n",
       "      <td>00059675530002022233                          ...</td>\n",
       "    </tr>\n",
       "    <tr>\n",
       "      <th>1</th>\n",
       "      <td>A002</td>\n",
       "      <td>R051</td>\n",
       "      <td>02-00-00</td>\n",
       "      <td>59 ST</td>\n",
       "      <td>NQR456W</td>\n",
       "      <td>BMT</td>\n",
       "      <td>12/17/2016</td>\n",
       "      <td>15:00:00</td>\n",
       "      <td>REGULAR</td>\n",
       "      <td>0005967790</td>\n",
       "      <td>0002022331                                    ...</td>\n",
       "      <td>2016-12-17 15:00:00</td>\n",
       "      <td>2016</td>\n",
       "      <td>12</td>\n",
       "      <td>17</td>\n",
       "      <td>Saturday</td>\n",
       "      <td>00059677900002022331                          ...</td>\n",
       "    </tr>\n",
       "    <tr>\n",
       "      <th>2</th>\n",
       "      <td>A002</td>\n",
       "      <td>R051</td>\n",
       "      <td>02-00-00</td>\n",
       "      <td>59 ST</td>\n",
       "      <td>NQR456W</td>\n",
       "      <td>BMT</td>\n",
       "      <td>12/17/2016</td>\n",
       "      <td>23:00:00</td>\n",
       "      <td>REGULAR</td>\n",
       "      <td>0005968429</td>\n",
       "      <td>0002022470                                    ...</td>\n",
       "      <td>2016-12-17 23:00:00</td>\n",
       "      <td>2016</td>\n",
       "      <td>12</td>\n",
       "      <td>17</td>\n",
       "      <td>Saturday</td>\n",
       "      <td>00059684290002022470                          ...</td>\n",
       "    </tr>\n",
       "    <tr>\n",
       "      <th>3</th>\n",
       "      <td>A002</td>\n",
       "      <td>R051</td>\n",
       "      <td>02-00-00</td>\n",
       "      <td>59 ST</td>\n",
       "      <td>NQR456W</td>\n",
       "      <td>BMT</td>\n",
       "      <td>12/18/2016</td>\n",
       "      <td>03:00:00</td>\n",
       "      <td>REGULAR</td>\n",
       "      <td>0005968519</td>\n",
       "      <td>0002022492                                    ...</td>\n",
       "      <td>2016-12-18 03:00:00</td>\n",
       "      <td>2016</td>\n",
       "      <td>12</td>\n",
       "      <td>18</td>\n",
       "      <td>Sunday</td>\n",
       "      <td>00059685190002022492                          ...</td>\n",
       "    </tr>\n",
       "    <tr>\n",
       "      <th>4</th>\n",
       "      <td>A002</td>\n",
       "      <td>R051</td>\n",
       "      <td>02-00-00</td>\n",
       "      <td>59 ST</td>\n",
       "      <td>NQR456W</td>\n",
       "      <td>BMT</td>\n",
       "      <td>12/18/2016</td>\n",
       "      <td>07:00:00</td>\n",
       "      <td>REGULAR</td>\n",
       "      <td>0005968527</td>\n",
       "      <td>0002022504                                    ...</td>\n",
       "      <td>2016-12-18 07:00:00</td>\n",
       "      <td>2016</td>\n",
       "      <td>12</td>\n",
       "      <td>18</td>\n",
       "      <td>Sunday</td>\n",
       "      <td>00059685270002022504                          ...</td>\n",
       "    </tr>\n",
       "  </tbody>\n",
       "</table>\n",
       "</div>"
      ],
      "text/plain": [
       "    C/A  UNIT       SCP STATION LINENAME DIVISION        DATE      TIME  \\\n",
       "0  A002  R051  02-00-00   59 ST  NQR456W      BMT  12/17/2016  11:00:00   \n",
       "1  A002  R051  02-00-00   59 ST  NQR456W      BMT  12/17/2016  15:00:00   \n",
       "2  A002  R051  02-00-00   59 ST  NQR456W      BMT  12/17/2016  23:00:00   \n",
       "3  A002  R051  02-00-00   59 ST  NQR456W      BMT  12/18/2016  03:00:00   \n",
       "4  A002  R051  02-00-00   59 ST  NQR456W      BMT  12/18/2016  07:00:00   \n",
       "\n",
       "      DESC     ENTRIES                                              EXITS  \\\n",
       "0  REGULAR  0005967553  0002022233                                    ...   \n",
       "1  REGULAR  0005967790  0002022331                                    ...   \n",
       "2  REGULAR  0005968429  0002022470                                    ...   \n",
       "3  REGULAR  0005968519  0002022492                                    ...   \n",
       "4  REGULAR  0005968527  0002022504                                    ...   \n",
       "\n",
       "             DATETIME  Year  Month  Day  Weekdays  \\\n",
       "0 2016-12-17 11:00:00  2016     12   17  Saturday   \n",
       "1 2016-12-17 15:00:00  2016     12   17  Saturday   \n",
       "2 2016-12-17 23:00:00  2016     12   17  Saturday   \n",
       "3 2016-12-18 03:00:00  2016     12   18    Sunday   \n",
       "4 2016-12-18 07:00:00  2016     12   18    Sunday   \n",
       "\n",
       "                                         TOTAL_COUNT  \n",
       "0  00059675530002022233                          ...  \n",
       "1  00059677900002022331                          ...  \n",
       "2  00059684290002022470                          ...  \n",
       "3  00059685190002022492                          ...  \n",
       "4  00059685270002022504                          ...  "
      ]
     },
     "execution_count": 49,
     "metadata": {},
     "output_type": "execute_result"
    }
   ],
   "source": [
    "df.head()"
   ]
  },
  {
   "cell_type": "markdown",
   "metadata": {},
   "source": [
    "### Busiest Station"
   ]
  },
  {
   "cell_type": "code",
   "execution_count": 50,
   "metadata": {
    "collapsed": true
   },
   "outputs": [],
   "source": [
    "df_BUSY = df[['TOTAL_COUNT','STATION']].groupby(['STATION'],sort = True).aggregate({'TOTAL_COUNT': pd.Series.nunique}).sort_values(by = 'TOTAL_COUNT', ascending = False ).reset_index()"
   ]
  },
  {
   "cell_type": "code",
   "execution_count": 51,
   "metadata": {},
   "outputs": [
    {
     "data": {
      "text/html": [
       "<div>\n",
       "<style>\n",
       "    .dataframe thead tr:only-child th {\n",
       "        text-align: right;\n",
       "    }\n",
       "\n",
       "    .dataframe thead th {\n",
       "        text-align: left;\n",
       "    }\n",
       "\n",
       "    .dataframe tbody tr th {\n",
       "        vertical-align: top;\n",
       "    }\n",
       "</style>\n",
       "<table border=\"1\" class=\"dataframe\">\n",
       "  <thead>\n",
       "    <tr style=\"text-align: right;\">\n",
       "      <th></th>\n",
       "      <th>STATION</th>\n",
       "      <th>TOTAL_COUNT</th>\n",
       "    </tr>\n",
       "  </thead>\n",
       "  <tbody>\n",
       "    <tr>\n",
       "      <th>0</th>\n",
       "      <td>34 ST-PENN STA</td>\n",
       "      <td>164775</td>\n",
       "    </tr>\n",
       "    <tr>\n",
       "      <th>1</th>\n",
       "      <td>FULTON ST</td>\n",
       "      <td>138700</td>\n",
       "    </tr>\n",
       "    <tr>\n",
       "      <th>2</th>\n",
       "      <td>42 ST-TIMES SQ</td>\n",
       "      <td>126714</td>\n",
       "    </tr>\n",
       "    <tr>\n",
       "      <th>3</th>\n",
       "      <td>GRD CNTRL-42 ST</td>\n",
       "      <td>96021</td>\n",
       "    </tr>\n",
       "    <tr>\n",
       "      <th>4</th>\n",
       "      <td>CANAL ST</td>\n",
       "      <td>94967</td>\n",
       "    </tr>\n",
       "  </tbody>\n",
       "</table>\n",
       "</div>"
      ],
      "text/plain": [
       "           STATION  TOTAL_COUNT\n",
       "0   34 ST-PENN STA       164775\n",
       "1        FULTON ST       138700\n",
       "2   42 ST-TIMES SQ       126714\n",
       "3  GRD CNTRL-42 ST        96021\n",
       "4         CANAL ST        94967"
      ]
     },
     "execution_count": 51,
     "metadata": {},
     "output_type": "execute_result"
    }
   ],
   "source": [
    "df_BUSY.head()"
   ]
  },
  {
   "cell_type": "code",
   "execution_count": 52,
   "metadata": {},
   "outputs": [
    {
     "data": {
      "text/plain": [
       "[<matplotlib.text.Text at 0x1b480f32208>,\n",
       " <matplotlib.text.Text at 0x1b480e75ef0>]"
      ]
     },
     "execution_count": 52,
     "metadata": {},
     "output_type": "execute_result"
    },
    {
     "data": {
      "image/png": "[encoded data removed]",
      "text/plain": [
       "<matplotlib.figure.Figure at 0x1b480bf6630>"
      ]
     },
     "metadata": {},
     "output_type": "display_data"
    }
   ],
   "source": [
    "graph_2 = sns.barplot(x='TOTAL_COUNT',y='STATION', data=df_BUSY.head(20), palette=\"coolwarm\")\n",
    "graph_2.set(xlabel='total number of entries and exits', ylabel='Station')"
   ]
  },
  {
   "cell_type": "markdown",
   "metadata": {},
   "source": [
    "#### The busiest Station is 34 ST-PENN Station"
   ]
  },
  {
   "cell_type": "markdown",
   "metadata": {},
   "source": [
    "### Weekly Traffic"
   ]
  },
  {
   "cell_type": "code",
   "execution_count": 53,
   "metadata": {
    "collapsed": true
   },
   "outputs": [],
   "source": [
    "# Traffic flow by Weekday\n",
    "df_traffic = df[['TOTAL_COUNT','STATION','Weekdays']].groupby(['STATION','Weekdays'],sort = True).count().sort_values(by = 'TOTAL_COUNT', ascending = False ).reset_index()"
   ]
  },
  {
   "cell_type": "code",
   "execution_count": 54,
   "metadata": {},
   "outputs": [
    {
     "data": {
      "text/html": [
       "<div>\n",
       "<style>\n",
       "    .dataframe thead tr:only-child th {\n",
       "        text-align: right;\n",
       "    }\n",
       "\n",
       "    .dataframe thead th {\n",
       "        text-align: left;\n",
       "    }\n",
       "\n",
       "    .dataframe tbody tr th {\n",
       "        vertical-align: top;\n",
       "    }\n",
       "</style>\n",
       "<table border=\"1\" class=\"dataframe\">\n",
       "  <thead>\n",
       "    <tr style=\"text-align: right;\">\n",
       "      <th></th>\n",
       "      <th>STATION</th>\n",
       "      <th>TOTAL_COUNT</th>\n",
       "    </tr>\n",
       "    <tr>\n",
       "      <th>Weekdays</th>\n",
       "      <th></th>\n",
       "      <th></th>\n",
       "    </tr>\n",
       "  </thead>\n",
       "  <tbody>\n",
       "    <tr>\n",
       "      <th>Thursday</th>\n",
       "      <td>34 ST-PENN STA</td>\n",
       "      <td>25543</td>\n",
       "    </tr>\n",
       "    <tr>\n",
       "      <th>Monday</th>\n",
       "      <td>34 ST-PENN STA</td>\n",
       "      <td>25405</td>\n",
       "    </tr>\n",
       "    <tr>\n",
       "      <th>Friday</th>\n",
       "      <td>34 ST-PENN STA</td>\n",
       "      <td>25389</td>\n",
       "    </tr>\n",
       "    <tr>\n",
       "      <th>Tuesday</th>\n",
       "      <td>34 ST-PENN STA</td>\n",
       "      <td>25186</td>\n",
       "    </tr>\n",
       "    <tr>\n",
       "      <th>Wednesday</th>\n",
       "      <td>34 ST-PENN STA</td>\n",
       "      <td>25074</td>\n",
       "    </tr>\n",
       "    <tr>\n",
       "      <th>Sunday</th>\n",
       "      <td>34 ST-PENN STA</td>\n",
       "      <td>24503</td>\n",
       "    </tr>\n",
       "    <tr>\n",
       "      <th>Saturday</th>\n",
       "      <td>34 ST-PENN STA</td>\n",
       "      <td>24488</td>\n",
       "    </tr>\n",
       "    <tr>\n",
       "      <th>Monday</th>\n",
       "      <td>FULTON ST</td>\n",
       "      <td>24407</td>\n",
       "    </tr>\n",
       "    <tr>\n",
       "      <th>Thursday</th>\n",
       "      <td>FULTON ST</td>\n",
       "      <td>24080</td>\n",
       "    </tr>\n",
       "    <tr>\n",
       "      <th>Friday</th>\n",
       "      <td>FULTON ST</td>\n",
       "      <td>24029</td>\n",
       "    </tr>\n",
       "    <tr>\n",
       "      <th>Tuesday</th>\n",
       "      <td>FULTON ST</td>\n",
       "      <td>23933</td>\n",
       "    </tr>\n",
       "    <tr>\n",
       "      <th>Wednesday</th>\n",
       "      <td>FULTON ST</td>\n",
       "      <td>23782</td>\n",
       "    </tr>\n",
       "    <tr>\n",
       "      <th>Sunday</th>\n",
       "      <td>FULTON ST</td>\n",
       "      <td>23655</td>\n",
       "    </tr>\n",
       "    <tr>\n",
       "      <th>Saturday</th>\n",
       "      <td>FULTON ST</td>\n",
       "      <td>23556</td>\n",
       "    </tr>\n",
       "    <tr>\n",
       "      <th>Friday</th>\n",
       "      <td>42 ST-TIMES SQ</td>\n",
       "      <td>19547</td>\n",
       "    </tr>\n",
       "    <tr>\n",
       "      <th>Thursday</th>\n",
       "      <td>42 ST-TIMES SQ</td>\n",
       "      <td>19491</td>\n",
       "    </tr>\n",
       "    <tr>\n",
       "      <th>Monday</th>\n",
       "      <td>42 ST-TIMES SQ</td>\n",
       "      <td>19184</td>\n",
       "    </tr>\n",
       "    <tr>\n",
       "      <th>Tuesday</th>\n",
       "      <td>42 ST-TIMES SQ</td>\n",
       "      <td>19170</td>\n",
       "    </tr>\n",
       "    <tr>\n",
       "      <th>Wednesday</th>\n",
       "      <td>42 ST-TIMES SQ</td>\n",
       "      <td>19102</td>\n",
       "    </tr>\n",
       "    <tr>\n",
       "      <th>Sunday</th>\n",
       "      <td>42 ST-TIMES SQ</td>\n",
       "      <td>18449</td>\n",
       "    </tr>\n",
       "    <tr>\n",
       "      <th>Saturday</th>\n",
       "      <td>42 ST-TIMES SQ</td>\n",
       "      <td>18422</td>\n",
       "    </tr>\n",
       "    <tr>\n",
       "      <th>Thursday</th>\n",
       "      <td>GRD CNTRL-42 ST</td>\n",
       "      <td>15914</td>\n",
       "    </tr>\n",
       "    <tr>\n",
       "      <th>Monday</th>\n",
       "      <td>GRD CNTRL-42 ST</td>\n",
       "      <td>15886</td>\n",
       "    </tr>\n",
       "    <tr>\n",
       "      <th>Friday</th>\n",
       "      <td>GRD CNTRL-42 ST</td>\n",
       "      <td>15776</td>\n",
       "    </tr>\n",
       "    <tr>\n",
       "      <th>Tuesday</th>\n",
       "      <td>GRD CNTRL-42 ST</td>\n",
       "      <td>15680</td>\n",
       "    </tr>\n",
       "    <tr>\n",
       "      <th>Wednesday</th>\n",
       "      <td>GRD CNTRL-42 ST</td>\n",
       "      <td>15627</td>\n",
       "    </tr>\n",
       "    <tr>\n",
       "      <th>Saturday</th>\n",
       "      <td>GRD CNTRL-42 ST</td>\n",
       "      <td>15217</td>\n",
       "    </tr>\n",
       "    <tr>\n",
       "      <th>Sunday</th>\n",
       "      <td>GRD CNTRL-42 ST</td>\n",
       "      <td>15151</td>\n",
       "    </tr>\n",
       "    <tr>\n",
       "      <th>Friday</th>\n",
       "      <td>CANAL ST</td>\n",
       "      <td>14916</td>\n",
       "    </tr>\n",
       "    <tr>\n",
       "      <th>Tuesday</th>\n",
       "      <td>CANAL ST</td>\n",
       "      <td>14819</td>\n",
       "    </tr>\n",
       "    <tr>\n",
       "      <th>...</th>\n",
       "      <td>...</td>\n",
       "      <td>...</td>\n",
       "    </tr>\n",
       "    <tr>\n",
       "      <th>Friday</th>\n",
       "      <td>NORWOOD AV</td>\n",
       "      <td>332</td>\n",
       "    </tr>\n",
       "    <tr>\n",
       "      <th>Wednesday</th>\n",
       "      <td>MONTROSE AVE</td>\n",
       "      <td>324</td>\n",
       "    </tr>\n",
       "    <tr>\n",
       "      <th>Monday</th>\n",
       "      <td>SUTTER AV-RUTLD</td>\n",
       "      <td>322</td>\n",
       "    </tr>\n",
       "    <tr>\n",
       "      <th>Wednesday</th>\n",
       "      <td>SUTTER AV</td>\n",
       "      <td>307</td>\n",
       "    </tr>\n",
       "    <tr>\n",
       "      <th>Tuesday</th>\n",
       "      <td>SUTTER AV-RUTLD</td>\n",
       "      <td>305</td>\n",
       "    </tr>\n",
       "    <tr>\n",
       "      <th>Wednesday</th>\n",
       "      <td>SUTTER AV-RUTLD</td>\n",
       "      <td>302</td>\n",
       "    </tr>\n",
       "    <tr>\n",
       "      <th>Friday</th>\n",
       "      <td>SUTTER AV-RUTLD</td>\n",
       "      <td>295</td>\n",
       "    </tr>\n",
       "    <tr>\n",
       "      <th>Thursday</th>\n",
       "      <td>SUTTER AV-RUTLD</td>\n",
       "      <td>289</td>\n",
       "    </tr>\n",
       "    <tr>\n",
       "      <th>Saturday</th>\n",
       "      <td>SUTTER AV-RUTLD</td>\n",
       "      <td>288</td>\n",
       "    </tr>\n",
       "    <tr>\n",
       "      <th>Sunday</th>\n",
       "      <td>SUTTER AV-RUTLD</td>\n",
       "      <td>266</td>\n",
       "    </tr>\n",
       "    <tr>\n",
       "      <th>Monday</th>\n",
       "      <td>SUTTER AV</td>\n",
       "      <td>254</td>\n",
       "    </tr>\n",
       "    <tr>\n",
       "      <th>Thursday</th>\n",
       "      <td>SUTTER AV</td>\n",
       "      <td>253</td>\n",
       "    </tr>\n",
       "    <tr>\n",
       "      <th>Saturday</th>\n",
       "      <td>SUTTER AV</td>\n",
       "      <td>251</td>\n",
       "    </tr>\n",
       "    <tr>\n",
       "      <th>Tuesday</th>\n",
       "      <td>SUTTER AV</td>\n",
       "      <td>251</td>\n",
       "    </tr>\n",
       "    <tr>\n",
       "      <th>Sunday</th>\n",
       "      <td>SUTTER AV</td>\n",
       "      <td>245</td>\n",
       "    </tr>\n",
       "    <tr>\n",
       "      <th>Friday</th>\n",
       "      <td>SUTTER AV</td>\n",
       "      <td>242</td>\n",
       "    </tr>\n",
       "    <tr>\n",
       "      <th>Friday</th>\n",
       "      <td>PATH WTC 2</td>\n",
       "      <td>194</td>\n",
       "    </tr>\n",
       "    <tr>\n",
       "      <th>Saturday</th>\n",
       "      <td>PATH WTC 2</td>\n",
       "      <td>185</td>\n",
       "    </tr>\n",
       "    <tr>\n",
       "      <th>Thursday</th>\n",
       "      <td>PATH WTC 2</td>\n",
       "      <td>184</td>\n",
       "    </tr>\n",
       "    <tr>\n",
       "      <th>Tuesday</th>\n",
       "      <td>PATH WTC 2</td>\n",
       "      <td>183</td>\n",
       "    </tr>\n",
       "    <tr>\n",
       "      <th>Wednesday</th>\n",
       "      <td>PATH WTC 2</td>\n",
       "      <td>171</td>\n",
       "    </tr>\n",
       "    <tr>\n",
       "      <th>Monday</th>\n",
       "      <td>PATH WTC 2</td>\n",
       "      <td>169</td>\n",
       "    </tr>\n",
       "    <tr>\n",
       "      <th>Sunday</th>\n",
       "      <td>PATH WTC 2</td>\n",
       "      <td>162</td>\n",
       "    </tr>\n",
       "    <tr>\n",
       "      <th>Tuesday</th>\n",
       "      <td>PATH NEW WTC</td>\n",
       "      <td>10</td>\n",
       "    </tr>\n",
       "    <tr>\n",
       "      <th>Wednesday</th>\n",
       "      <td>PATH NEW WTC</td>\n",
       "      <td>10</td>\n",
       "    </tr>\n",
       "    <tr>\n",
       "      <th>Saturday</th>\n",
       "      <td>PATH NEW WTC</td>\n",
       "      <td>8</td>\n",
       "    </tr>\n",
       "    <tr>\n",
       "      <th>Thursday</th>\n",
       "      <td>PATH NEW WTC</td>\n",
       "      <td>8</td>\n",
       "    </tr>\n",
       "    <tr>\n",
       "      <th>Sunday</th>\n",
       "      <td>PATH NEW WTC</td>\n",
       "      <td>6</td>\n",
       "    </tr>\n",
       "    <tr>\n",
       "      <th>Monday</th>\n",
       "      <td>PATH NEW WTC</td>\n",
       "      <td>6</td>\n",
       "    </tr>\n",
       "    <tr>\n",
       "      <th>Friday</th>\n",
       "      <td>PATH NEW WTC</td>\n",
       "      <td>6</td>\n",
       "    </tr>\n",
       "  </tbody>\n",
       "</table>\n",
       "<p>3822 rows × 2 columns</p>\n",
       "</div>"
      ],
      "text/plain": [
       "                   STATION  TOTAL_COUNT\n",
       "Weekdays                               \n",
       "Thursday    34 ST-PENN STA        25543\n",
       "Monday      34 ST-PENN STA        25405\n",
       "Friday      34 ST-PENN STA        25389\n",
       "Tuesday     34 ST-PENN STA        25186\n",
       "Wednesday   34 ST-PENN STA        25074\n",
       "Sunday      34 ST-PENN STA        24503\n",
       "Saturday    34 ST-PENN STA        24488\n",
       "Monday           FULTON ST        24407\n",
       "Thursday         FULTON ST        24080\n",
       "Friday           FULTON ST        24029\n",
       "Tuesday          FULTON ST        23933\n",
       "Wednesday        FULTON ST        23782\n",
       "Sunday           FULTON ST        23655\n",
       "Saturday         FULTON ST        23556\n",
       "Friday      42 ST-TIMES SQ        19547\n",
       "Thursday    42 ST-TIMES SQ        19491\n",
       "Monday      42 ST-TIMES SQ        19184\n",
       "Tuesday     42 ST-TIMES SQ        19170\n",
       "Wednesday   42 ST-TIMES SQ        19102\n",
       "Sunday      42 ST-TIMES SQ        18449\n",
       "Saturday    42 ST-TIMES SQ        18422\n",
       "Thursday   GRD CNTRL-42 ST        15914\n",
       "Monday     GRD CNTRL-42 ST        15886\n",
       "Friday     GRD CNTRL-42 ST        15776\n",
       "Tuesday    GRD CNTRL-42 ST        15680\n",
       "Wednesday  GRD CNTRL-42 ST        15627\n",
       "Saturday   GRD CNTRL-42 ST        15217\n",
       "Sunday     GRD CNTRL-42 ST        15151\n",
       "Friday            CANAL ST        14916\n",
       "Tuesday           CANAL ST        14819\n",
       "...                    ...          ...\n",
       "Friday          NORWOOD AV          332\n",
       "Wednesday     MONTROSE AVE          324\n",
       "Monday     SUTTER AV-RUTLD          322\n",
       "Wednesday        SUTTER AV          307\n",
       "Tuesday    SUTTER AV-RUTLD          305\n",
       "Wednesday  SUTTER AV-RUTLD          302\n",
       "Friday     SUTTER AV-RUTLD          295\n",
       "Thursday   SUTTER AV-RUTLD          289\n",
       "Saturday   SUTTER AV-RUTLD          288\n",
       "Sunday     SUTTER AV-RUTLD          266\n",
       "Monday           SUTTER AV          254\n",
       "Thursday         SUTTER AV          253\n",
       "Saturday         SUTTER AV          251\n",
       "Tuesday          SUTTER AV          251\n",
       "Sunday           SUTTER AV          245\n",
       "Friday           SUTTER AV          242\n",
       "Friday          PATH WTC 2          194\n",
       "Saturday        PATH WTC 2          185\n",
       "Thursday        PATH WTC 2          184\n",
       "Tuesday         PATH WTC 2          183\n",
       "Wednesday       PATH WTC 2          171\n",
       "Monday          PATH WTC 2          169\n",
       "Sunday          PATH WTC 2          162\n",
       "Tuesday       PATH NEW WTC           10\n",
       "Wednesday     PATH NEW WTC           10\n",
       "Saturday      PATH NEW WTC            8\n",
       "Thursday      PATH NEW WTC            8\n",
       "Sunday        PATH NEW WTC            6\n",
       "Monday        PATH NEW WTC            6\n",
       "Friday        PATH NEW WTC            6\n",
       "\n",
       "[3822 rows x 2 columns]"
      ]
     },
     "execution_count": 54,
     "metadata": {},
     "output_type": "execute_result"
    }
   ],
   "source": [
    "df_traffic.set_index('Weekdays')\n"
   ]
  },
  {
   "cell_type": "code",
   "execution_count": 55,
   "metadata": {},
   "outputs": [
    {
     "data": {
      "text/plain": [
       "<seaborn.axisgrid.FacetGrid at 0x1b4a51e9390>"
      ]
     },
     "execution_count": 55,
     "metadata": {},
     "output_type": "execute_result"
    },
    {
     "data": {
      "image/png": "[encoded data removed]",
      "text/plain": [
       "<matplotlib.figure.Figure at 0x1b4a527bfd0>"
      ]
     },
     "metadata": {},
     "output_type": "display_data"
    }
   ],
   "source": [
    "# Traffic flow by Weekday\n",
    "\n",
    "g = sns.factorplot(x='Weekdays', y=\"TOTAL_COUNT\", hue=\"STATION\", data=df_traffic.head(28),size=7, kind=\"bar\", palette=\"muted\")\n",
    "g.despine(left=True)\n",
    "g.set_ylabels(\"Total weekday traffic\")"
   ]
  },
  {
   "cell_type": "code",
   "execution_count": 56,
   "metadata": {},
   "outputs": [
    {
     "data": {
      "text/plain": [
       "[<matplotlib.text.Text at 0x1b4a55d24e0>,\n",
       " <matplotlib.text.Text at 0x1b4a52b6da0>]"
      ]
     },
     "execution_count": 56,
     "metadata": {},
     "output_type": "execute_result"
    },
    {
     "data": {
      "image/png": "[encoded data removed]",
      "text/plain": [
       "<matplotlib.figure.Figure at 0x1b4a52e81d0>"
      ]
     },
     "metadata": {},
     "output_type": "display_data"
    }
   ],
   "source": [
    "graph_5 = sns.barplot(x='Weekdays',y='TOTAL_COUNT', data=df_traffic, palette=\"coolwarm\")\n",
    "graph_5.set(xlabel='Weekdays', ylabel='Total Weekday Traffic')"
   ]
  },
  {
   "cell_type": "markdown",
   "metadata": {},
   "source": [
    "## Busiest Hour "
   ]
  },
  {
   "cell_type": "code",
   "execution_count": 57,
   "metadata": {},
   "outputs": [
    {
     "data": {
      "text/plain": [
       "array([datetime.time(11, 0), datetime.time(15, 0), datetime.time(23, 0),\n",
       "       ..., datetime.time(17, 55, 58), datetime.time(17, 44, 46),\n",
       "       datetime.time(17, 50, 14)], dtype=object)"
      ]
     },
     "execution_count": 57,
     "metadata": {},
     "output_type": "execute_result"
    }
   ],
   "source": [
    "df.TIME.unique()"
   ]
  },
  {
   "cell_type": "code",
   "execution_count": 58,
   "metadata": {
    "collapsed": true
   },
   "outputs": [],
   "source": [
    "df['Hour'] = df['DATETIME'].dt.hour.astype(int)"
   ]
  },
  {
   "cell_type": "code",
   "execution_count": 59,
   "metadata": {},
   "outputs": [
    {
     "data": {
      "text/plain": [
       "0    11\n",
       "1    15\n",
       "2    23\n",
       "3     3\n",
       "4     7\n",
       "Name: Hour, dtype: int32"
      ]
     },
     "execution_count": 59,
     "metadata": {},
     "output_type": "execute_result"
    }
   ],
   "source": [
    "df['Hour'].head()"
   ]
  },
  {
   "cell_type": "code",
   "execution_count": 60,
   "metadata": {},
   "outputs": [
    {
     "data": {
      "text/html": [
       "<div>\n",
       "<style>\n",
       "    .dataframe thead tr:only-child th {\n",
       "        text-align: right;\n",
       "    }\n",
       "\n",
       "    .dataframe thead th {\n",
       "        text-align: left;\n",
       "    }\n",
       "\n",
       "    .dataframe tbody tr th {\n",
       "        vertical-align: top;\n",
       "    }\n",
       "</style>\n",
       "<table border=\"1\" class=\"dataframe\">\n",
       "  <thead>\n",
       "    <tr style=\"text-align: right;\">\n",
       "      <th></th>\n",
       "      <th>C/A</th>\n",
       "      <th>UNIT</th>\n",
       "      <th>SCP</th>\n",
       "      <th>STATION</th>\n",
       "      <th>LINENAME</th>\n",
       "      <th>DIVISION</th>\n",
       "      <th>DATE</th>\n",
       "      <th>TIME</th>\n",
       "      <th>DESC</th>\n",
       "      <th>ENTRIES</th>\n",
       "      <th>EXITS</th>\n",
       "      <th>DATETIME</th>\n",
       "      <th>Year</th>\n",
       "      <th>Month</th>\n",
       "      <th>Day</th>\n",
       "      <th>Weekdays</th>\n",
       "      <th>TOTAL_COUNT</th>\n",
       "      <th>Hour</th>\n",
       "    </tr>\n",
       "  </thead>\n",
       "  <tbody>\n",
       "    <tr>\n",
       "      <th>0</th>\n",
       "      <td>A002</td>\n",
       "      <td>R051</td>\n",
       "      <td>02-00-00</td>\n",
       "      <td>59 ST</td>\n",
       "      <td>NQR456W</td>\n",
       "      <td>BMT</td>\n",
       "      <td>12/17/2016</td>\n",
       "      <td>11:00:00</td>\n",
       "      <td>REGULAR</td>\n",
       "      <td>0005967553</td>\n",
       "      <td>0002022233                                    ...</td>\n",
       "      <td>2016-12-17 11:00:00</td>\n",
       "      <td>2016</td>\n",
       "      <td>12</td>\n",
       "      <td>17</td>\n",
       "      <td>Saturday</td>\n",
       "      <td>00059675530002022233                          ...</td>\n",
       "      <td>11</td>\n",
       "    </tr>\n",
       "    <tr>\n",
       "      <th>1</th>\n",
       "      <td>A002</td>\n",
       "      <td>R051</td>\n",
       "      <td>02-00-00</td>\n",
       "      <td>59 ST</td>\n",
       "      <td>NQR456W</td>\n",
       "      <td>BMT</td>\n",
       "      <td>12/17/2016</td>\n",
       "      <td>15:00:00</td>\n",
       "      <td>REGULAR</td>\n",
       "      <td>0005967790</td>\n",
       "      <td>0002022331                                    ...</td>\n",
       "      <td>2016-12-17 15:00:00</td>\n",
       "      <td>2016</td>\n",
       "      <td>12</td>\n",
       "      <td>17</td>\n",
       "      <td>Saturday</td>\n",
       "      <td>00059677900002022331                          ...</td>\n",
       "      <td>15</td>\n",
       "    </tr>\n",
       "    <tr>\n",
       "      <th>2</th>\n",
       "      <td>A002</td>\n",
       "      <td>R051</td>\n",
       "      <td>02-00-00</td>\n",
       "      <td>59 ST</td>\n",
       "      <td>NQR456W</td>\n",
       "      <td>BMT</td>\n",
       "      <td>12/17/2016</td>\n",
       "      <td>23:00:00</td>\n",
       "      <td>REGULAR</td>\n",
       "      <td>0005968429</td>\n",
       "      <td>0002022470                                    ...</td>\n",
       "      <td>2016-12-17 23:00:00</td>\n",
       "      <td>2016</td>\n",
       "      <td>12</td>\n",
       "      <td>17</td>\n",
       "      <td>Saturday</td>\n",
       "      <td>00059684290002022470                          ...</td>\n",
       "      <td>23</td>\n",
       "    </tr>\n",
       "    <tr>\n",
       "      <th>3</th>\n",
       "      <td>A002</td>\n",
       "      <td>R051</td>\n",
       "      <td>02-00-00</td>\n",
       "      <td>59 ST</td>\n",
       "      <td>NQR456W</td>\n",
       "      <td>BMT</td>\n",
       "      <td>12/18/2016</td>\n",
       "      <td>03:00:00</td>\n",
       "      <td>REGULAR</td>\n",
       "      <td>0005968519</td>\n",
       "      <td>0002022492                                    ...</td>\n",
       "      <td>2016-12-18 03:00:00</td>\n",
       "      <td>2016</td>\n",
       "      <td>12</td>\n",
       "      <td>18</td>\n",
       "      <td>Sunday</td>\n",
       "      <td>00059685190002022492                          ...</td>\n",
       "      <td>3</td>\n",
       "    </tr>\n",
       "    <tr>\n",
       "      <th>4</th>\n",
       "      <td>A002</td>\n",
       "      <td>R051</td>\n",
       "      <td>02-00-00</td>\n",
       "      <td>59 ST</td>\n",
       "      <td>NQR456W</td>\n",
       "      <td>BMT</td>\n",
       "      <td>12/18/2016</td>\n",
       "      <td>07:00:00</td>\n",
       "      <td>REGULAR</td>\n",
       "      <td>0005968527</td>\n",
       "      <td>0002022504                                    ...</td>\n",
       "      <td>2016-12-18 07:00:00</td>\n",
       "      <td>2016</td>\n",
       "      <td>12</td>\n",
       "      <td>18</td>\n",
       "      <td>Sunday</td>\n",
       "      <td>00059685270002022504                          ...</td>\n",
       "      <td>7</td>\n",
       "    </tr>\n",
       "  </tbody>\n",
       "</table>\n",
       "</div>"
      ],
      "text/plain": [
       "    C/A  UNIT       SCP STATION LINENAME DIVISION        DATE      TIME  \\\n",
       "0  A002  R051  02-00-00   59 ST  NQR456W      BMT  12/17/2016  11:00:00   \n",
       "1  A002  R051  02-00-00   59 ST  NQR456W      BMT  12/17/2016  15:00:00   \n",
       "2  A002  R051  02-00-00   59 ST  NQR456W      BMT  12/17/2016  23:00:00   \n",
       "3  A002  R051  02-00-00   59 ST  NQR456W      BMT  12/18/2016  03:00:00   \n",
       "4  A002  R051  02-00-00   59 ST  NQR456W      BMT  12/18/2016  07:00:00   \n",
       "\n",
       "      DESC     ENTRIES                                              EXITS  \\\n",
       "0  REGULAR  0005967553  0002022233                                    ...   \n",
       "1  REGULAR  0005967790  0002022331                                    ...   \n",
       "2  REGULAR  0005968429  0002022470                                    ...   \n",
       "3  REGULAR  0005968519  0002022492                                    ...   \n",
       "4  REGULAR  0005968527  0002022504                                    ...   \n",
       "\n",
       "             DATETIME  Year  Month  Day  Weekdays  \\\n",
       "0 2016-12-17 11:00:00  2016     12   17  Saturday   \n",
       "1 2016-12-17 15:00:00  2016     12   17  Saturday   \n",
       "2 2016-12-17 23:00:00  2016     12   17  Saturday   \n",
       "3 2016-12-18 03:00:00  2016     12   18    Sunday   \n",
       "4 2016-12-18 07:00:00  2016     12   18    Sunday   \n",
       "\n",
       "                                         TOTAL_COUNT  Hour  \n",
       "0  00059675530002022233                          ...    11  \n",
       "1  00059677900002022331                          ...    15  \n",
       "2  00059684290002022470                          ...    23  \n",
       "3  00059685190002022492                          ...     3  \n",
       "4  00059685270002022504                          ...     7  "
      ]
     },
     "execution_count": 60,
     "metadata": {},
     "output_type": "execute_result"
    }
   ],
   "source": [
    "df.head()"
   ]
  },
  {
   "cell_type": "code",
   "execution_count": 61,
   "metadata": {},
   "outputs": [
    {
     "data": {
      "text/plain": [
       "array([11, 15, 23,  3,  7, 19,  5,  9, 13, 17, 21,  1,  8,  0, 16, 20,  4,\n",
       "       12,  6, 10, 18, 22, 14,  2], dtype=int64)"
      ]
     },
     "execution_count": 61,
     "metadata": {},
     "output_type": "execute_result"
    }
   ],
   "source": [
    "df.Hour.unique()"
   ]
  },
  {
   "cell_type": "code",
   "execution_count": 62,
   "metadata": {
    "collapsed": true
   },
   "outputs": [],
   "source": [
    "# Hoursly Traffic flow\n",
    "df_Hourly_Traffic = df[['TOTAL_COUNT','Hour']].groupby(['Hour'],sort = True).count().sort_values(by =['TOTAL_COUNT'], ascending = False).reset_index()"
   ]
  },
  {
   "cell_type": "code",
   "execution_count": 63,
   "metadata": {},
   "outputs": [
    {
     "data": {
      "text/html": [
       "<div>\n",
       "<style>\n",
       "    .dataframe thead tr:only-child th {\n",
       "        text-align: right;\n",
       "    }\n",
       "\n",
       "    .dataframe thead th {\n",
       "        text-align: left;\n",
       "    }\n",
       "\n",
       "    .dataframe tbody tr th {\n",
       "        vertical-align: top;\n",
       "    }\n",
       "</style>\n",
       "<table border=\"1\" class=\"dataframe\">\n",
       "  <thead>\n",
       "    <tr style=\"text-align: right;\">\n",
       "      <th></th>\n",
       "      <th>Hour</th>\n",
       "      <th>TOTAL_COUNT</th>\n",
       "    </tr>\n",
       "  </thead>\n",
       "  <tbody>\n",
       "    <tr>\n",
       "      <th>0</th>\n",
       "      <td>8</td>\n",
       "      <td>676898</td>\n",
       "    </tr>\n",
       "    <tr>\n",
       "      <th>1</th>\n",
       "      <td>12</td>\n",
       "      <td>649983</td>\n",
       "    </tr>\n",
       "    <tr>\n",
       "      <th>2</th>\n",
       "      <td>0</td>\n",
       "      <td>649224</td>\n",
       "    </tr>\n",
       "    <tr>\n",
       "      <th>3</th>\n",
       "      <td>16</td>\n",
       "      <td>648481</td>\n",
       "    </tr>\n",
       "    <tr>\n",
       "      <th>4</th>\n",
       "      <td>20</td>\n",
       "      <td>648458</td>\n",
       "    </tr>\n",
       "  </tbody>\n",
       "</table>\n",
       "</div>"
      ],
      "text/plain": [
       "   Hour  TOTAL_COUNT\n",
       "0     8       676898\n",
       "1    12       649983\n",
       "2     0       649224\n",
       "3    16       648481\n",
       "4    20       648458"
      ]
     },
     "execution_count": 63,
     "metadata": {},
     "output_type": "execute_result"
    }
   ],
   "source": [
    "df_Hourly_Traffic.head()"
   ]
  },
  {
   "cell_type": "code",
   "execution_count": 64,
   "metadata": {},
   "outputs": [
    {
     "data": {
      "text/plain": [
       "[<matplotlib.text.Text at 0x1b4a5515b70>,\n",
       " <matplotlib.text.Text at 0x1b4a550a5c0>]"
      ]
     },
     "execution_count": 64,
     "metadata": {},
     "output_type": "execute_result"
    },
    {
     "data": {
      "image/png": "[encoded data removed]",
      "text/plain": [
       "<matplotlib.figure.Figure at 0x1b4a5275550>"
      ]
     },
     "metadata": {},
     "output_type": "display_data"
    }
   ],
   "source": [
    "graph_4 = sns.barplot(x='Hour',y='TOTAL_COUNT', data=df_Hourly_Traffic, palette=\"coolwarm\")\n",
    "graph_4.set(xlabel='Hours', ylabel='Hourly Entry and Exit')"
   ]
  },
  {
   "cell_type": "markdown",
   "metadata": {
    "collapsed": true
   },
   "source": [
    "#### What turnstile was the busiest on that date?"
   ]
  },
  {
   "cell_type": "code",
   "execution_count": 65,
   "metadata": {
    "collapsed": true
   },
   "outputs": [],
   "source": [
    "#merge the columns that define a turnstile\n",
    "df['TURNSTILE'] = df['C/A'] + ' ' + df['UNIT'] + ' ' + df['SCP']"
   ]
  },
  {
   "cell_type": "code",
   "execution_count": 66,
   "metadata": {},
   "outputs": [
    {
     "name": "stderr",
     "output_type": "stream",
     "text": [
      "C:\\Users\\Lenovo\\Anaconda3\\lib\\site-packages\\ipykernel_launcher.py:1: FutureWarning: using a dict on a Series for aggregation\n",
      "is deprecated and will be removed in a future version\n",
      "  \"\"\"Entry point for launching an IPython kernel.\n"
     ]
    }
   ],
   "source": [
    "df_Turnstile = df.groupby('TURNSTILE')['TOTAL_COUNT'].aggregate({'TOTAL_COUNT': pd.Series.nunique}).sort_values(by = 'TOTAL_COUNT', ascending = False ).reset_index().copy()"
   ]
  },
  {
   "cell_type": "code",
   "execution_count": 67,
   "metadata": {},
   "outputs": [
    {
     "data": {
      "text/html": [
       "<div>\n",
       "<style>\n",
       "    .dataframe thead tr:only-child th {\n",
       "        text-align: right;\n",
       "    }\n",
       "\n",
       "    .dataframe thead th {\n",
       "        text-align: left;\n",
       "    }\n",
       "\n",
       "    .dataframe tbody tr th {\n",
       "        vertical-align: top;\n",
       "    }\n",
       "</style>\n",
       "<table border=\"1\" class=\"dataframe\">\n",
       "  <thead>\n",
       "    <tr style=\"text-align: right;\">\n",
       "      <th></th>\n",
       "      <th>TURNSTILE</th>\n",
       "      <th>TOTAL_COUNT</th>\n",
       "    </tr>\n",
       "  </thead>\n",
       "  <tbody>\n",
       "    <tr>\n",
       "      <th>0</th>\n",
       "      <td>N501 R020 01-00-00</td>\n",
       "      <td>1907</td>\n",
       "    </tr>\n",
       "    <tr>\n",
       "      <th>1</th>\n",
       "      <td>N519 R461 00-03-02</td>\n",
       "      <td>1892</td>\n",
       "    </tr>\n",
       "    <tr>\n",
       "      <th>2</th>\n",
       "      <td>R238 R046 00-00-08</td>\n",
       "      <td>1891</td>\n",
       "    </tr>\n",
       "    <tr>\n",
       "      <th>3</th>\n",
       "      <td>N507 R023 00-00-03</td>\n",
       "      <td>1881</td>\n",
       "    </tr>\n",
       "    <tr>\n",
       "      <th>4</th>\n",
       "      <td>N213 R154 00-00-02</td>\n",
       "      <td>1870</td>\n",
       "    </tr>\n",
       "  </tbody>\n",
       "</table>\n",
       "</div>"
      ],
      "text/plain": [
       "            TURNSTILE  TOTAL_COUNT\n",
       "0  N501 R020 01-00-00         1907\n",
       "1  N519 R461 00-03-02         1892\n",
       "2  R238 R046 00-00-08         1891\n",
       "3  N507 R023 00-00-03         1881\n",
       "4  N213 R154 00-00-02         1870"
      ]
     },
     "execution_count": 67,
     "metadata": {},
     "output_type": "execute_result"
    }
   ],
   "source": [
    "df_Turnstile.head()"
   ]
  },
  {
   "cell_type": "code",
   "execution_count": 68,
   "metadata": {},
   "outputs": [
    {
     "data": {
      "text/plain": [
       "[<matplotlib.text.Text at 0x1b4a58343c8>,\n",
       " <matplotlib.text.Text at 0x1b4a57b9be0>]"
      ]
     },
     "execution_count": 68,
     "metadata": {},
     "output_type": "execute_result"
    },
    {
     "data": {
      "image/png": "[encoded data removed]",
      "text/plain": [
       "<matplotlib.figure.Figure at 0x1b4a583b400>"
      ]
     },
     "metadata": {},
     "output_type": "display_data"
    }
   ],
   "source": [
    "f, ax = plt.subplots(figsize=(8, 5))\n",
    "\n",
    "g =sns.barplot(x='TOTAL_COUNT',y='TURNSTILE', data=df_Turnstile.head(15), palette=\"Blues\")\n",
    "g.set(xlabel='Busyness', ylabel='Turnstile')"
   ]
  },
  {
   "cell_type": "markdown",
   "metadata": {},
   "source": [
    "### What dates in 2016 and 2015 are the least busy?"
   ]
  },
  {
   "cell_type": "code",
   "execution_count": 69,
   "metadata": {},
   "outputs": [
    {
     "name": "stderr",
     "output_type": "stream",
     "text": [
      "C:\\Users\\Lenovo\\Anaconda3\\lib\\site-packages\\ipykernel_launcher.py:1: FutureWarning: using a dict on a Series for aggregation\n",
      "is deprecated and will be removed in a future version\n",
      "  \"\"\"Entry point for launching an IPython kernel.\n"
     ]
    }
   ],
   "source": [
    "df_Least_Busy = df.groupby('DATE')['TOTAL_COUNT'].aggregate({'TOTAL_COUNT': pd.Series.nunique}).sort_values(by = 'TOTAL_COUNT', ascending = True ).reset_index().copy()"
   ]
  },
  {
   "cell_type": "code",
   "execution_count": 70,
   "metadata": {},
   "outputs": [
    {
     "data": {
      "text/html": [
       "<div>\n",
       "<style>\n",
       "    .dataframe thead tr:only-child th {\n",
       "        text-align: right;\n",
       "    }\n",
       "\n",
       "    .dataframe thead th {\n",
       "        text-align: left;\n",
       "    }\n",
       "\n",
       "    .dataframe tbody tr th {\n",
       "        vertical-align: top;\n",
       "    }\n",
       "</style>\n",
       "<table border=\"1\" class=\"dataframe\">\n",
       "  <thead>\n",
       "    <tr style=\"text-align: right;\">\n",
       "      <th></th>\n",
       "      <th>DATE</th>\n",
       "      <th>TOTAL_COUNT</th>\n",
       "    </tr>\n",
       "  </thead>\n",
       "  <tbody>\n",
       "    <tr>\n",
       "      <th>0</th>\n",
       "      <td>03/13/2016</td>\n",
       "      <td>9185</td>\n",
       "    </tr>\n",
       "    <tr>\n",
       "      <th>1</th>\n",
       "      <td>03/08/2015</td>\n",
       "      <td>9208</td>\n",
       "    </tr>\n",
       "    <tr>\n",
       "      <th>2</th>\n",
       "      <td>05/30/2015</td>\n",
       "      <td>9816</td>\n",
       "    </tr>\n",
       "    <tr>\n",
       "      <th>3</th>\n",
       "      <td>01/24/2016</td>\n",
       "      <td>9822</td>\n",
       "    </tr>\n",
       "    <tr>\n",
       "      <th>4</th>\n",
       "      <td>01/27/2015</td>\n",
       "      <td>9836</td>\n",
       "    </tr>\n",
       "  </tbody>\n",
       "</table>\n",
       "</div>"
      ],
      "text/plain": [
       "         DATE  TOTAL_COUNT\n",
       "0  03/13/2016         9185\n",
       "1  03/08/2015         9208\n",
       "2  05/30/2015         9816\n",
       "3  01/24/2016         9822\n",
       "4  01/27/2015         9836"
      ]
     },
     "execution_count": 70,
     "metadata": {},
     "output_type": "execute_result"
    }
   ],
   "source": [
    "df_Least_Busy[['DATE','TOTAL_COUNT']].head()"
   ]
  },
  {
   "cell_type": "markdown",
   "metadata": {},
   "source": [
    "#### 03/13/2016 - DayLight saving and Sunday"
   ]
  },
  {
   "cell_type": "code",
   "execution_count": 71,
   "metadata": {
    "collapsed": true
   },
   "outputs": [],
   "source": [
    "# most busy date\n",
    "df_most_busy_date = df[['TOTAL_COUNT','DATE']].groupby(['DATE'],sort = True).count().sort_values(by =['TOTAL_COUNT'], ascending = False).reset_index()"
   ]
  },
  {
   "cell_type": "code",
   "execution_count": 72,
   "metadata": {},
   "outputs": [
    {
     "data": {
      "text/html": [
       "<div>\n",
       "<style>\n",
       "    .dataframe thead tr:only-child th {\n",
       "        text-align: right;\n",
       "    }\n",
       "\n",
       "    .dataframe thead th {\n",
       "        text-align: left;\n",
       "    }\n",
       "\n",
       "    .dataframe tbody tr th {\n",
       "        vertical-align: top;\n",
       "    }\n",
       "</style>\n",
       "<table border=\"1\" class=\"dataframe\">\n",
       "  <thead>\n",
       "    <tr style=\"text-align: right;\">\n",
       "      <th></th>\n",
       "      <th>DATE</th>\n",
       "      <th>TOTAL_COUNT</th>\n",
       "    </tr>\n",
       "  </thead>\n",
       "  <tbody>\n",
       "    <tr>\n",
       "      <th>0</th>\n",
       "      <td>02/19/2016</td>\n",
       "      <td>13954</td>\n",
       "    </tr>\n",
       "    <tr>\n",
       "      <th>1</th>\n",
       "      <td>01/12/2015</td>\n",
       "      <td>13186</td>\n",
       "    </tr>\n",
       "    <tr>\n",
       "      <th>2</th>\n",
       "      <td>12/14/2016</td>\n",
       "      <td>12653</td>\n",
       "    </tr>\n",
       "    <tr>\n",
       "      <th>3</th>\n",
       "      <td>02/25/2016</td>\n",
       "      <td>12365</td>\n",
       "    </tr>\n",
       "    <tr>\n",
       "      <th>4</th>\n",
       "      <td>01/16/2015</td>\n",
       "      <td>12135</td>\n",
       "    </tr>\n",
       "  </tbody>\n",
       "</table>\n",
       "</div>"
      ],
      "text/plain": [
       "         DATE  TOTAL_COUNT\n",
       "0  02/19/2016        13954\n",
       "1  01/12/2015        13186\n",
       "2  12/14/2016        12653\n",
       "3  02/25/2016        12365\n",
       "4  01/16/2015        12135"
      ]
     },
     "execution_count": 72,
     "metadata": {},
     "output_type": "execute_result"
    }
   ],
   "source": [
    "df_most_busy_date.head()"
   ]
  },
  {
   "cell_type": "markdown",
   "metadata": {},
   "source": [
    "#### 02/19/2016 - Film and vocal festival in NYC"
   ]
  },
  {
   "cell_type": "code",
   "execution_count": 73,
   "metadata": {},
   "outputs": [
    {
     "data": {
      "text/plain": [
       "(array([ 0,  1,  2,  3,  4,  5,  6,  7,  8,  9, 10, 11, 12, 13, 14, 15, 16,\n",
       "        17, 18, 19, 20, 21, 22, 23]), <a list of 24 Text xticklabel objects>)"
      ]
     },
     "execution_count": 73,
     "metadata": {},
     "output_type": "execute_result"
    },
    {
     "data": {
      "image/png": "[encoded data removed]",
      "text/plain": [
       "<matplotlib.figure.Figure at 0x1b4a584c9b0>"
      ]
     },
     "metadata": {},
     "output_type": "display_data"
    }
   ],
   "source": [
    "# month over month entries\n",
    "temp=df.groupby(['Year','Month'])['ENTRIES'].count()\n",
    "plt.figure(figsize=(13,4))\n",
    "sns.pointplot(temp.index,temp.values, alpha=0.8)\n",
    "plt.ylabel('Overall Entries', fontsize=12)\n",
    "plt.xlabel('Month', fontsize=12)\n",
    "plt.title('Monthly Entries variation', fontsize=15)\n",
    "plt.xticks(rotation='vertical')"
   ]
  },
  {
   "cell_type": "markdown",
   "metadata": {},
   "source": [
    "## Heat Map"
   ]
  },
  {
   "cell_type": "code",
   "execution_count": 74,
   "metadata": {},
   "outputs": [
    {
     "data": {
      "text/html": [
       "<div>\n",
       "<style>\n",
       "    .dataframe thead tr:only-child th {\n",
       "        text-align: right;\n",
       "    }\n",
       "\n",
       "    .dataframe thead th {\n",
       "        text-align: left;\n",
       "    }\n",
       "\n",
       "    .dataframe tbody tr th {\n",
       "        vertical-align: top;\n",
       "    }\n",
       "</style>\n",
       "<table border=\"1\" class=\"dataframe\">\n",
       "  <thead>\n",
       "    <tr style=\"text-align: right;\">\n",
       "      <th></th>\n",
       "      <th>C/A</th>\n",
       "      <th>UNIT</th>\n",
       "      <th>SCP</th>\n",
       "      <th>STATION</th>\n",
       "      <th>LINENAME</th>\n",
       "      <th>DIVISION</th>\n",
       "      <th>DATE</th>\n",
       "      <th>TIME</th>\n",
       "      <th>DESC</th>\n",
       "      <th>ENTRIES</th>\n",
       "      <th>EXITS</th>\n",
       "      <th>DATETIME</th>\n",
       "      <th>Year</th>\n",
       "      <th>Month</th>\n",
       "      <th>Day</th>\n",
       "      <th>Weekdays</th>\n",
       "    </tr>\n",
       "  </thead>\n",
       "  <tbody>\n",
       "    <tr>\n",
       "      <th>0</th>\n",
       "      <td>A002</td>\n",
       "      <td>R051</td>\n",
       "      <td>02-00-00</td>\n",
       "      <td>59 ST</td>\n",
       "      <td>NQR456W</td>\n",
       "      <td>BMT</td>\n",
       "      <td>12/17/2016</td>\n",
       "      <td>11:00:00</td>\n",
       "      <td>REGULAR</td>\n",
       "      <td>0005967553</td>\n",
       "      <td>0002022233                                    ...</td>\n",
       "      <td>2016-12-17 11:00:00</td>\n",
       "      <td>2016</td>\n",
       "      <td>12</td>\n",
       "      <td>17</td>\n",
       "      <td>Saturday</td>\n",
       "    </tr>\n",
       "    <tr>\n",
       "      <th>1</th>\n",
       "      <td>A002</td>\n",
       "      <td>R051</td>\n",
       "      <td>02-00-00</td>\n",
       "      <td>59 ST</td>\n",
       "      <td>NQR456W</td>\n",
       "      <td>BMT</td>\n",
       "      <td>12/17/2016</td>\n",
       "      <td>15:00:00</td>\n",
       "      <td>REGULAR</td>\n",
       "      <td>0005967790</td>\n",
       "      <td>0002022331                                    ...</td>\n",
       "      <td>2016-12-17 15:00:00</td>\n",
       "      <td>2016</td>\n",
       "      <td>12</td>\n",
       "      <td>17</td>\n",
       "      <td>Saturday</td>\n",
       "    </tr>\n",
       "    <tr>\n",
       "      <th>2</th>\n",
       "      <td>A002</td>\n",
       "      <td>R051</td>\n",
       "      <td>02-00-00</td>\n",
       "      <td>59 ST</td>\n",
       "      <td>NQR456W</td>\n",
       "      <td>BMT</td>\n",
       "      <td>12/17/2016</td>\n",
       "      <td>23:00:00</td>\n",
       "      <td>REGULAR</td>\n",
       "      <td>0005968429</td>\n",
       "      <td>0002022470                                    ...</td>\n",
       "      <td>2016-12-17 23:00:00</td>\n",
       "      <td>2016</td>\n",
       "      <td>12</td>\n",
       "      <td>17</td>\n",
       "      <td>Saturday</td>\n",
       "    </tr>\n",
       "    <tr>\n",
       "      <th>3</th>\n",
       "      <td>A002</td>\n",
       "      <td>R051</td>\n",
       "      <td>02-00-00</td>\n",
       "      <td>59 ST</td>\n",
       "      <td>NQR456W</td>\n",
       "      <td>BMT</td>\n",
       "      <td>12/18/2016</td>\n",
       "      <td>03:00:00</td>\n",
       "      <td>REGULAR</td>\n",
       "      <td>0005968519</td>\n",
       "      <td>0002022492                                    ...</td>\n",
       "      <td>2016-12-18 03:00:00</td>\n",
       "      <td>2016</td>\n",
       "      <td>12</td>\n",
       "      <td>18</td>\n",
       "      <td>Sunday</td>\n",
       "    </tr>\n",
       "    <tr>\n",
       "      <th>4</th>\n",
       "      <td>A002</td>\n",
       "      <td>R051</td>\n",
       "      <td>02-00-00</td>\n",
       "      <td>59 ST</td>\n",
       "      <td>NQR456W</td>\n",
       "      <td>BMT</td>\n",
       "      <td>12/18/2016</td>\n",
       "      <td>07:00:00</td>\n",
       "      <td>REGULAR</td>\n",
       "      <td>0005968527</td>\n",
       "      <td>0002022504                                    ...</td>\n",
       "      <td>2016-12-18 07:00:00</td>\n",
       "      <td>2016</td>\n",
       "      <td>12</td>\n",
       "      <td>18</td>\n",
       "      <td>Sunday</td>\n",
       "    </tr>\n",
       "  </tbody>\n",
       "</table>\n",
       "</div>"
      ],
      "text/plain": [
       "    C/A  UNIT       SCP STATION LINENAME DIVISION        DATE      TIME  \\\n",
       "0  A002  R051  02-00-00   59 ST  NQR456W      BMT  12/17/2016  11:00:00   \n",
       "1  A002  R051  02-00-00   59 ST  NQR456W      BMT  12/17/2016  15:00:00   \n",
       "2  A002  R051  02-00-00   59 ST  NQR456W      BMT  12/17/2016  23:00:00   \n",
       "3  A002  R051  02-00-00   59 ST  NQR456W      BMT  12/18/2016  03:00:00   \n",
       "4  A002  R051  02-00-00   59 ST  NQR456W      BMT  12/18/2016  07:00:00   \n",
       "\n",
       "      DESC     ENTRIES                                              EXITS  \\\n",
       "0  REGULAR  0005967553  0002022233                                    ...   \n",
       "1  REGULAR  0005967790  0002022331                                    ...   \n",
       "2  REGULAR  0005968429  0002022470                                    ...   \n",
       "3  REGULAR  0005968519  0002022492                                    ...   \n",
       "4  REGULAR  0005968527  0002022504                                    ...   \n",
       "\n",
       "             DATETIME  Year  Month  Day  Weekdays  \n",
       "0 2016-12-17 11:00:00  2016     12   17  Saturday  \n",
       "1 2016-12-17 15:00:00  2016     12   17  Saturday  \n",
       "2 2016-12-17 23:00:00  2016     12   17  Saturday  \n",
       "3 2016-12-18 03:00:00  2016     12   18    Sunday  \n",
       "4 2016-12-18 07:00:00  2016     12   18    Sunday  "
      ]
     },
     "execution_count": 74,
     "metadata": {},
     "output_type": "execute_result"
    }
   ],
   "source": [
    "df1.head()"
   ]
  },
  {
   "cell_type": "code",
   "execution_count": 75,
   "metadata": {},
   "outputs": [
    {
     "data": {
      "text/plain": [
       "C/A                 object\n",
       "UNIT                object\n",
       "SCP                 object\n",
       "STATION             object\n",
       "LINENAME            object\n",
       "DIVISION            object\n",
       "DATE                object\n",
       "TIME                object\n",
       "DESC                object\n",
       "ENTRIES             object\n",
       "EXITS               object\n",
       "DATETIME    datetime64[ns]\n",
       "Year                 int32\n",
       "Month                int32\n",
       "Day                  int32\n",
       "Weekdays            object\n",
       "dtype: object"
      ]
     },
     "execution_count": 75,
     "metadata": {},
     "output_type": "execute_result"
    }
   ],
   "source": [
    "df1.dtypes"
   ]
  },
  {
   "cell_type": "code",
   "execution_count": 76,
   "metadata": {
    "collapsed": true
   },
   "outputs": [],
   "source": [
    "# changing the data type\n",
    "df1['ENTRIES'] = df1['ENTRIES'].astype(int)\n",
    "df1['EXITS'] = df1['EXITS'].astype(int)"
   ]
  },
  {
   "cell_type": "code",
   "execution_count": 77,
   "metadata": {},
   "outputs": [
    {
     "data": {
      "text/plain": [
       "C/A                 object\n",
       "UNIT                object\n",
       "SCP                 object\n",
       "STATION             object\n",
       "LINENAME            object\n",
       "DIVISION            object\n",
       "DATE                object\n",
       "TIME                object\n",
       "DESC                object\n",
       "ENTRIES              int32\n",
       "EXITS                int32\n",
       "DATETIME    datetime64[ns]\n",
       "Year                 int32\n",
       "Month                int32\n",
       "Day                  int32\n",
       "Weekdays            object\n",
       "dtype: object"
      ]
     },
     "execution_count": 77,
     "metadata": {},
     "output_type": "execute_result"
    }
   ],
   "source": [
    "df1.dtypes"
   ]
  },
  {
   "cell_type": "code",
   "execution_count": 78,
   "metadata": {
    "collapsed": true
   },
   "outputs": [],
   "source": [
    "df1['Hour'] = df1['DATETIME'].dt.hour.astype(int)"
   ]
  },
  {
   "cell_type": "code",
   "execution_count": 79,
   "metadata": {
    "collapsed": true
   },
   "outputs": [],
   "source": [
    "df1 = df1[['UNIT','SCP','STATION','LINENAME','Month','Hour','ENTRIES','TIME','EXITS','Day','Year']]"
   ]
  },
  {
   "cell_type": "code",
   "execution_count": 80,
   "metadata": {
    "collapsed": true
   },
   "outputs": [],
   "source": [
    "from sklearn.preprocessing import LabelEncoder\n",
    "number = LabelEncoder()\n",
    "\n",
    "df1['STATION'] = number.fit_transform(df1['STATION'])\n",
    "df1['LINENAME'] = number.fit_transform(df1['LINENAME'])\n",
    "df1['UNIT'] = number.fit_transform(df1['UNIT'])\n",
    "df1['SCP'] = number.fit_transform(df1['SCP'])\n"
   ]
  },
  {
   "cell_type": "code",
   "execution_count": 81,
   "metadata": {},
   "outputs": [
    {
     "data": {
      "image/png": "[encoded data removed]",
      "text/plain": [
       "<matplotlib.figure.Figure at 0x1b4a5159e48>"
      ]
     },
     "metadata": {},
     "output_type": "display_data"
    }
   ],
   "source": [
    "cor_matrix = df1.corr()\n",
    "f, ax = plt.subplots(figsize=(11,9))\n",
    "cmap = sns.diverging_palette(220, 10, as_cmap=True)\n",
    "sns.heatmap(cor_matrix, vmax=.20, square=True,center=0,linewidths=.5,cbar_kws={\"shrink\": .5})\n",
    "plt.show()"
   ]
  },
  {
   "cell_type": "markdown",
   "metadata": {
    "collapsed": true
   },
   "source": [
    "## Data Modeling"
   ]
  },
  {
   "cell_type": "markdown",
   "metadata": {},
   "source": [
    "### We took a smaller sample as compared to the one we considered for EDA because of the runtime error of low memory"
   ]
  },
  {
   "cell_type": "code",
   "execution_count": 82,
   "metadata": {
    "collapsed": true
   },
   "outputs": [],
   "source": [
    "df_model=pd.read_csv(Input_Path+\"traindata.csv\",low_memory=False)"
   ]
  },
  {
   "cell_type": "code",
   "execution_count": 83,
   "metadata": {},
   "outputs": [
    {
     "data": {
      "text/html": [
       "<div>\n",
       "<style>\n",
       "    .dataframe thead tr:only-child th {\n",
       "        text-align: right;\n",
       "    }\n",
       "\n",
       "    .dataframe thead th {\n",
       "        text-align: left;\n",
       "    }\n",
       "\n",
       "    .dataframe tbody tr th {\n",
       "        vertical-align: top;\n",
       "    }\n",
       "</style>\n",
       "<table border=\"1\" class=\"dataframe\">\n",
       "  <thead>\n",
       "    <tr style=\"text-align: right;\">\n",
       "      <th></th>\n",
       "      <th>C/A</th>\n",
       "      <th>UNIT</th>\n",
       "      <th>SCP</th>\n",
       "      <th>STATION</th>\n",
       "      <th>Latitude</th>\n",
       "      <th>Longitude</th>\n",
       "      <th>LINENAME</th>\n",
       "      <th>DIVISION</th>\n",
       "      <th>DATE</th>\n",
       "      <th>TIME</th>\n",
       "      <th>DESC</th>\n",
       "      <th>ENTRIES</th>\n",
       "      <th>EXITS</th>\n",
       "      <th>DATETIME</th>\n",
       "      <th>Day</th>\n",
       "      <th>Year</th>\n",
       "      <th>Month</th>\n",
       "      <th>Weekdays</th>\n",
       "      <th>Hour</th>\n",
       "    </tr>\n",
       "  </thead>\n",
       "  <tbody>\n",
       "    <tr>\n",
       "      <th>0</th>\n",
       "      <td>H007</td>\n",
       "      <td>R248</td>\n",
       "      <td>00-03-01</td>\n",
       "      <td>1 AVE</td>\n",
       "      <td>40.840556</td>\n",
       "      <td>-73.940133</td>\n",
       "      <td>L</td>\n",
       "      <td>BMT</td>\n",
       "      <td>12/22/2016</td>\n",
       "      <td>19:00:00</td>\n",
       "      <td>REGULAR</td>\n",
       "      <td>1789480</td>\n",
       "      <td>741880</td>\n",
       "      <td>22-12-2016 19:00</td>\n",
       "      <td>22</td>\n",
       "      <td>2016</td>\n",
       "      <td>12</td>\n",
       "      <td>Thursday</td>\n",
       "      <td>19</td>\n",
       "    </tr>\n",
       "    <tr>\n",
       "      <th>1</th>\n",
       "      <td>H007</td>\n",
       "      <td>R248</td>\n",
       "      <td>00-03-01</td>\n",
       "      <td>1 AVE</td>\n",
       "      <td>40.840556</td>\n",
       "      <td>-73.940133</td>\n",
       "      <td>L</td>\n",
       "      <td>BMT</td>\n",
       "      <td>12/23/2016</td>\n",
       "      <td>11:00:00</td>\n",
       "      <td>REGULAR</td>\n",
       "      <td>1789846</td>\n",
       "      <td>742071</td>\n",
       "      <td>23-12-2016 11:00</td>\n",
       "      <td>23</td>\n",
       "      <td>2016</td>\n",
       "      <td>12</td>\n",
       "      <td>Friday</td>\n",
       "      <td>11</td>\n",
       "    </tr>\n",
       "    <tr>\n",
       "      <th>2</th>\n",
       "      <td>H008</td>\n",
       "      <td>R248</td>\n",
       "      <td>01-00-04</td>\n",
       "      <td>1 AVE</td>\n",
       "      <td>40.840556</td>\n",
       "      <td>-73.940133</td>\n",
       "      <td>L</td>\n",
       "      <td>BMT</td>\n",
       "      <td>12/23/2016</td>\n",
       "      <td>11:00:00</td>\n",
       "      <td>REGULAR</td>\n",
       "      <td>5734405</td>\n",
       "      <td>607702</td>\n",
       "      <td>23-12-2016 11:00</td>\n",
       "      <td>23</td>\n",
       "      <td>2016</td>\n",
       "      <td>12</td>\n",
       "      <td>Friday</td>\n",
       "      <td>11</td>\n",
       "    </tr>\n",
       "    <tr>\n",
       "      <th>3</th>\n",
       "      <td>H007</td>\n",
       "      <td>R248</td>\n",
       "      <td>00-00-00</td>\n",
       "      <td>1 AVE</td>\n",
       "      <td>40.840556</td>\n",
       "      <td>-73.940133</td>\n",
       "      <td>L</td>\n",
       "      <td>BMT</td>\n",
       "      <td>12/16/2016</td>\n",
       "      <td>19:00:00</td>\n",
       "      <td>REGULAR</td>\n",
       "      <td>11849310</td>\n",
       "      <td>13000537</td>\n",
       "      <td>16-12-2016 19:00</td>\n",
       "      <td>16</td>\n",
       "      <td>2016</td>\n",
       "      <td>12</td>\n",
       "      <td>Friday</td>\n",
       "      <td>19</td>\n",
       "    </tr>\n",
       "    <tr>\n",
       "      <th>4</th>\n",
       "      <td>H007</td>\n",
       "      <td>R248</td>\n",
       "      <td>00-03-01</td>\n",
       "      <td>1 AVE</td>\n",
       "      <td>40.840556</td>\n",
       "      <td>-73.940133</td>\n",
       "      <td>L</td>\n",
       "      <td>BMT</td>\n",
       "      <td>12-11-2016</td>\n",
       "      <td>07:00:00</td>\n",
       "      <td>REGULAR</td>\n",
       "      <td>1777536</td>\n",
       "      <td>737617</td>\n",
       "      <td>11-12-2016 07:00</td>\n",
       "      <td>11</td>\n",
       "      <td>2016</td>\n",
       "      <td>12</td>\n",
       "      <td>Sunday</td>\n",
       "      <td>7</td>\n",
       "    </tr>\n",
       "  </tbody>\n",
       "</table>\n",
       "</div>"
      ],
      "text/plain": [
       "    C/A  UNIT       SCP STATION   Latitude  Longitude LINENAME DIVISION  \\\n",
       "0  H007  R248  00-03-01   1 AVE  40.840556 -73.940133        L      BMT   \n",
       "1  H007  R248  00-03-01   1 AVE  40.840556 -73.940133        L      BMT   \n",
       "2  H008  R248  01-00-04   1 AVE  40.840556 -73.940133        L      BMT   \n",
       "3  H007  R248  00-00-00   1 AVE  40.840556 -73.940133        L      BMT   \n",
       "4  H007  R248  00-03-01   1 AVE  40.840556 -73.940133        L      BMT   \n",
       "\n",
       "         DATE      TIME     DESC   ENTRIES     EXITS          DATETIME  Day  \\\n",
       "0  12/22/2016  19:00:00  REGULAR   1789480    741880  22-12-2016 19:00   22   \n",
       "1  12/23/2016  11:00:00  REGULAR   1789846    742071  23-12-2016 11:00   23   \n",
       "2  12/23/2016  11:00:00  REGULAR   5734405    607702  23-12-2016 11:00   23   \n",
       "3  12/16/2016  19:00:00  REGULAR  11849310  13000537  16-12-2016 19:00   16   \n",
       "4  12-11-2016  07:00:00  REGULAR   1777536    737617  11-12-2016 07:00   11   \n",
       "\n",
       "   Year  Month  Weekdays  Hour  \n",
       "0  2016     12  Thursday    19  \n",
       "1  2016     12    Friday    11  \n",
       "2  2016     12    Friday    11  \n",
       "3  2016     12    Friday    19  \n",
       "4  2016     12    Sunday     7  "
      ]
     },
     "execution_count": 83,
     "metadata": {},
     "output_type": "execute_result"
    }
   ],
   "source": [
    "df_model.head()"
   ]
  },
  {
   "cell_type": "code",
   "execution_count": 84,
   "metadata": {},
   "outputs": [
    {
     "data": {
      "text/plain": [
       "199639"
      ]
     },
     "execution_count": 84,
     "metadata": {},
     "output_type": "execute_result"
    }
   ],
   "source": [
    "# sample size for Data Modeling\n",
    "len(df_model)"
   ]
  },
  {
   "cell_type": "code",
   "execution_count": 85,
   "metadata": {
    "collapsed": true
   },
   "outputs": [],
   "source": [
    "df_2016 = df_model[df_model.Year == 2016]"
   ]
  },
  {
   "cell_type": "code",
   "execution_count": 86,
   "metadata": {},
   "outputs": [
    {
     "data": {
      "text/plain": [
       "array([2016], dtype=int64)"
      ]
     },
     "execution_count": 86,
     "metadata": {},
     "output_type": "execute_result"
    }
   ],
   "source": [
    "df_2016.Year.unique()"
   ]
  },
  {
   "cell_type": "code",
   "execution_count": 87,
   "metadata": {
    "collapsed": true
   },
   "outputs": [],
   "source": [
    "# Data for 2016 as per the feature selection\n",
    "df_2016 = df_model.loc[:,['UNIT','SCP','C/A','LINENAME','Month','STATION','Hour','ENTRIES']]"
   ]
  },
  {
   "cell_type": "code",
   "execution_count": 88,
   "metadata": {},
   "outputs": [
    {
     "data": {
      "text/html": [
       "<div>\n",
       "<style>\n",
       "    .dataframe thead tr:only-child th {\n",
       "        text-align: right;\n",
       "    }\n",
       "\n",
       "    .dataframe thead th {\n",
       "        text-align: left;\n",
       "    }\n",
       "\n",
       "    .dataframe tbody tr th {\n",
       "        vertical-align: top;\n",
       "    }\n",
       "</style>\n",
       "<table border=\"1\" class=\"dataframe\">\n",
       "  <thead>\n",
       "    <tr style=\"text-align: right;\">\n",
       "      <th></th>\n",
       "      <th>UNIT</th>\n",
       "      <th>SCP</th>\n",
       "      <th>C/A</th>\n",
       "      <th>LINENAME</th>\n",
       "      <th>Month</th>\n",
       "      <th>STATION</th>\n",
       "      <th>Hour</th>\n",
       "      <th>ENTRIES</th>\n",
       "    </tr>\n",
       "  </thead>\n",
       "  <tbody>\n",
       "    <tr>\n",
       "      <th>0</th>\n",
       "      <td>R248</td>\n",
       "      <td>00-03-01</td>\n",
       "      <td>H007</td>\n",
       "      <td>L</td>\n",
       "      <td>12</td>\n",
       "      <td>1 AVE</td>\n",
       "      <td>19</td>\n",
       "      <td>1789480</td>\n",
       "    </tr>\n",
       "    <tr>\n",
       "      <th>1</th>\n",
       "      <td>R248</td>\n",
       "      <td>00-03-01</td>\n",
       "      <td>H007</td>\n",
       "      <td>L</td>\n",
       "      <td>12</td>\n",
       "      <td>1 AVE</td>\n",
       "      <td>11</td>\n",
       "      <td>1789846</td>\n",
       "    </tr>\n",
       "    <tr>\n",
       "      <th>2</th>\n",
       "      <td>R248</td>\n",
       "      <td>01-00-04</td>\n",
       "      <td>H008</td>\n",
       "      <td>L</td>\n",
       "      <td>12</td>\n",
       "      <td>1 AVE</td>\n",
       "      <td>11</td>\n",
       "      <td>5734405</td>\n",
       "    </tr>\n",
       "    <tr>\n",
       "      <th>3</th>\n",
       "      <td>R248</td>\n",
       "      <td>00-00-00</td>\n",
       "      <td>H007</td>\n",
       "      <td>L</td>\n",
       "      <td>12</td>\n",
       "      <td>1 AVE</td>\n",
       "      <td>19</td>\n",
       "      <td>11849310</td>\n",
       "    </tr>\n",
       "    <tr>\n",
       "      <th>4</th>\n",
       "      <td>R248</td>\n",
       "      <td>00-03-01</td>\n",
       "      <td>H007</td>\n",
       "      <td>L</td>\n",
       "      <td>12</td>\n",
       "      <td>1 AVE</td>\n",
       "      <td>7</td>\n",
       "      <td>1777536</td>\n",
       "    </tr>\n",
       "  </tbody>\n",
       "</table>\n",
       "</div>"
      ],
      "text/plain": [
       "   UNIT       SCP   C/A LINENAME  Month STATION  Hour   ENTRIES\n",
       "0  R248  00-03-01  H007        L     12   1 AVE    19   1789480\n",
       "1  R248  00-03-01  H007        L     12   1 AVE    11   1789846\n",
       "2  R248  01-00-04  H008        L     12   1 AVE    11   5734405\n",
       "3  R248  00-00-00  H007        L     12   1 AVE    19  11849310\n",
       "4  R248  00-03-01  H007        L     12   1 AVE     7   1777536"
      ]
     },
     "execution_count": 88,
     "metadata": {},
     "output_type": "execute_result"
    }
   ],
   "source": [
    "df_2016.head()"
   ]
  },
  {
   "cell_type": "code",
   "execution_count": 89,
   "metadata": {},
   "outputs": [
    {
     "name": "stderr",
     "output_type": "stream",
     "text": [
      "C:\\Users\\Lenovo\\Anaconda3\\lib\\site-packages\\sklearn\\cross_validation.py:41: DeprecationWarning: This module was deprecated in version 0.18 in favor of the model_selection module into which all the refactored classes and functions are moved. Also note that the interface of the new CV iterators are different from that of this module. This module will be removed in 0.20.\n",
      "  \"This module will be removed in 0.20.\", DeprecationWarning)\n"
     ]
    }
   ],
   "source": [
    "# ENSEMBLE APPROACHES\n",
    "import sklearn\n",
    "from sklearn.ensemble import RandomForestRegressor\n",
    "from sklearn.model_selection import GridSearchCV\n",
    "from sklearn.metrics import r2_score\n",
    "from sklearn.metrics import mean_squared_error\n",
    "from sklearn import preprocessing as pre\n",
    "import xgboost as xgb\n",
    "from sklearn.model_selection import train_test_split\n",
    "from sklearn.preprocessing import LabelEncoder"
   ]
  },
  {
   "cell_type": "code",
   "execution_count": 90,
   "metadata": {},
   "outputs": [
    {
     "data": {
      "text/plain": [
       "UNIT        object\n",
       "SCP         object\n",
       "C/A         object\n",
       "LINENAME    object\n",
       "Month        int64\n",
       "STATION     object\n",
       "Hour         int64\n",
       "ENTRIES      int64\n",
       "dtype: object"
      ]
     },
     "execution_count": 90,
     "metadata": {},
     "output_type": "execute_result"
    }
   ],
   "source": [
    "df_2016.dtypes"
   ]
  },
  {
   "cell_type": "code",
   "execution_count": 91,
   "metadata": {
    "collapsed": true
   },
   "outputs": [],
   "source": [
    "# changing the data type for the model as the regressor accepts only integer values and the output variable is integer as well\n",
    "from sklearn.preprocessing import LabelEncoder\n",
    "number = LabelEncoder()\n",
    "\n",
    "df_2016['STATION'] = number.fit_transform(df_2016['STATION'])\n",
    "df_2016['LINENAME'] = number.fit_transform(df_2016['LINENAME'])\n",
    "df_2016['UNIT'] = number.fit_transform(df_2016['UNIT'])\n",
    "df_2016['C/A'] = number.fit_transform(df_2016['C/A'])\n",
    "df_2016['SCP'] = number.fit_transform(df_2016['SCP'])"
   ]
  },
  {
   "cell_type": "code",
   "execution_count": 92,
   "metadata": {},
   "outputs": [
    {
     "data": {
      "text/html": [
       "<div>\n",
       "<style>\n",
       "    .dataframe thead tr:only-child th {\n",
       "        text-align: right;\n",
       "    }\n",
       "\n",
       "    .dataframe thead th {\n",
       "        text-align: left;\n",
       "    }\n",
       "\n",
       "    .dataframe tbody tr th {\n",
       "        vertical-align: top;\n",
       "    }\n",
       "</style>\n",
       "<table border=\"1\" class=\"dataframe\">\n",
       "  <thead>\n",
       "    <tr style=\"text-align: right;\">\n",
       "      <th></th>\n",
       "      <th>UNIT</th>\n",
       "      <th>SCP</th>\n",
       "      <th>C/A</th>\n",
       "      <th>LINENAME</th>\n",
       "      <th>Month</th>\n",
       "      <th>STATION</th>\n",
       "      <th>Hour</th>\n",
       "      <th>ENTRIES</th>\n",
       "    </tr>\n",
       "  </thead>\n",
       "  <tbody>\n",
       "    <tr>\n",
       "      <th>0</th>\n",
       "      <td>238</td>\n",
       "      <td>27</td>\n",
       "      <td>123</td>\n",
       "      <td>104</td>\n",
       "      <td>12</td>\n",
       "      <td>0</td>\n",
       "      <td>19</td>\n",
       "      <td>1789480</td>\n",
       "    </tr>\n",
       "    <tr>\n",
       "      <th>1</th>\n",
       "      <td>238</td>\n",
       "      <td>27</td>\n",
       "      <td>123</td>\n",
       "      <td>104</td>\n",
       "      <td>12</td>\n",
       "      <td>0</td>\n",
       "      <td>11</td>\n",
       "      <td>1789846</td>\n",
       "    </tr>\n",
       "    <tr>\n",
       "      <th>2</th>\n",
       "      <td>238</td>\n",
       "      <td>70</td>\n",
       "      <td>124</td>\n",
       "      <td>104</td>\n",
       "      <td>12</td>\n",
       "      <td>0</td>\n",
       "      <td>11</td>\n",
       "      <td>5734405</td>\n",
       "    </tr>\n",
       "    <tr>\n",
       "      <th>3</th>\n",
       "      <td>238</td>\n",
       "      <td>0</td>\n",
       "      <td>123</td>\n",
       "      <td>104</td>\n",
       "      <td>12</td>\n",
       "      <td>0</td>\n",
       "      <td>19</td>\n",
       "      <td>11849310</td>\n",
       "    </tr>\n",
       "    <tr>\n",
       "      <th>4</th>\n",
       "      <td>238</td>\n",
       "      <td>27</td>\n",
       "      <td>123</td>\n",
       "      <td>104</td>\n",
       "      <td>12</td>\n",
       "      <td>0</td>\n",
       "      <td>7</td>\n",
       "      <td>1777536</td>\n",
       "    </tr>\n",
       "  </tbody>\n",
       "</table>\n",
       "</div>"
      ],
      "text/plain": [
       "   UNIT  SCP  C/A  LINENAME  Month  STATION  Hour   ENTRIES\n",
       "0   238   27  123       104     12        0    19   1789480\n",
       "1   238   27  123       104     12        0    11   1789846\n",
       "2   238   70  124       104     12        0    11   5734405\n",
       "3   238    0  123       104     12        0    19  11849310\n",
       "4   238   27  123       104     12        0     7   1777536"
      ]
     },
     "execution_count": 92,
     "metadata": {},
     "output_type": "execute_result"
    }
   ],
   "source": [
    "df_2016.head()"
   ]
  },
  {
   "cell_type": "code",
   "execution_count": 93,
   "metadata": {},
   "outputs": [
    {
     "name": "stdout",
     "output_type": "stream",
     "text": [
      "Shape X : (199639, 7)\n",
      "Shape y : (199639,)\n"
     ]
    }
   ],
   "source": [
    "#train data without ENTRIES\n",
    "train_data = df_2016.reset_index(drop=True)  #we reset the index\n",
    "y_labels = train_data['ENTRIES']\n",
    "X_train_data = train_data.drop(['ENTRIES'], axis = 1)\n",
    "\n",
    "print('Shape X :', X_train_data.shape)\n",
    "print('Shape y :', y_labels.shape)"
   ]
  },
  {
   "cell_type": "code",
   "execution_count": 94,
   "metadata": {},
   "outputs": [
    {
     "name": "stdout",
     "output_type": "stream",
     "text": [
      "X_train shape : (159711, 7)\n",
      "y_train shape : (159711,)\n",
      "X_validation shape : (39928, 7)\n",
      "y_validation shape : (39928,)\n"
     ]
    }
   ],
   "source": [
    "# splitting train and test\n",
    "num_test = 0.20\n",
    "X_train, X_validation, y_train, y_validation = train_test_split(X_train_data, y_labels, test_size=num_test, random_state=15)\n",
    "print('X_train shape :', X_train.shape)\n",
    "print('y_train shape :', y_train.shape)\n",
    "print('X_validation shape :', X_validation.shape)\n",
    "print('y_validation shape :', y_validation.shape)"
   ]
  },
  {
   "cell_type": "code",
   "execution_count": 95,
   "metadata": {},
   "outputs": [
    {
     "name": "stdout",
     "output_type": "stream",
     "text": [
      "Fitting 5 folds for each of 6 candidates, totalling 30 fits\n"
     ]
    },
    {
     "name": "stderr",
     "output_type": "stream",
     "text": [
      "[Parallel(n_jobs=-1)]: Done  30 out of  30 | elapsed:  5.5min finished\n"
     ]
    },
    {
     "data": {
      "text/plain": [
       "RandomForestRegressor(bootstrap=True, criterion='mse', max_depth=None,\n",
       "           max_features='auto', max_leaf_nodes=None,\n",
       "           min_impurity_decrease=0.0, min_impurity_split=None,\n",
       "           min_samples_leaf=1, min_samples_split=2,\n",
       "           min_weight_fraction_leaf=0.0, n_estimators=100, n_jobs=1,\n",
       "           oob_score=False, random_state=None, verbose=0, warm_start=False)"
      ]
     },
     "execution_count": 95,
     "metadata": {},
     "output_type": "execute_result"
    }
   ],
   "source": [
    "# Choose the type of classifier. \n",
    "RFR = RandomForestRegressor()\n",
    "\n",
    "# Choose some parameter combinations to try\n",
    "#WE CAN TRY DIFFERENTS PARAMETERS TO FIND THE BEST MODEL\n",
    "parameters = {'n_estimators': [5, 10, 100],\n",
    "              #'criterion': ['mse'],\n",
    "              #'max_depth': [5, 10, 15], \n",
    "              #'min_samples_split': [2, 5, 10],\n",
    "              'min_samples_leaf': [1,5]\n",
    "             }\n",
    "\n",
    "# Type of scoring used to compare parameter combinations\n",
    "#We have to use RandomForestRegressor's own scorer (which is R^2 score)\n",
    "\n",
    "# Run the grid search\n",
    "grid_obj = GridSearchCV(RFR, parameters,\n",
    "                        cv=5, #Determines the cross-validation splitting strategy /to specify the number of folds in a (Stratified)KFold\n",
    "                        n_jobs=-1, #Number of jobs to run in parallel\n",
    "                        verbose=1)\n",
    "grid_obj = grid_obj.fit(X_train, y_train)\n",
    "\n",
    "# Set the clf to the best combination of parameters\n",
    "RFR = grid_obj.best_estimator_\n",
    "\n",
    "# Fit the best algorithm to the data. \n",
    "RFR.fit(X_train, y_train)"
   ]
  },
  {
   "cell_type": "code",
   "execution_count": 96,
   "metadata": {},
   "outputs": [
    {
     "name": "stdout",
     "output_type": "stream",
     "text": [
      "R2 score =  0.92192749626 / 1.0\n",
      "MSE score =  2.6885570608e+15 / 0.0\n"
     ]
    }
   ],
   "source": [
    "predictions = RFR.predict(X_validation)\n",
    "\n",
    "#if we want to Re-scale, use this lines of code :\n",
    "#predictions = predictions * (max_train - min_train) + min_train\n",
    "#y_validation_RF = y_validation * (max_train - min_train) + min_train\n",
    "\n",
    "#if not, keep this one:\n",
    "y_validation_RF = y_validation\n",
    "\n",
    "print('R2 score = ',r2_score(y_validation_RF, predictions), '/ 1.0')\n",
    "print('MSE score = ',mean_squared_error(y_validation_RF, predictions), '/ 0.0')"
   ]
  },
  {
   "cell_type": "markdown",
   "metadata": {},
   "source": [
    "### The R square value for Random Forest Regessor is 92.3%"
   ]
  },
  {
   "cell_type": "markdown",
   "metadata": {},
   "source": [
    "## XG Boost"
   ]
  },
  {
   "cell_type": "code",
   "execution_count": 97,
   "metadata": {},
   "outputs": [
    {
     "name": "stdout",
     "output_type": "stream",
     "text": [
      "Shape :  (199639, 8)\n"
     ]
    }
   ],
   "source": [
    "## scaling ENTRIES\n",
    "min_train, max_train = df_2016['ENTRIES'].min(), df_2016['ENTRIES'].max()\n",
    "\n",
    "scalable_variables = ['ENTRIES']\n",
    "\n",
    "for var in scalable_variables:\n",
    "    mini, maxi = df_2016[var].min(), df_2016[var].max()\n",
    "    df_2016.loc[:,var] = (df_2016[var] - mini) / (maxi - mini)\n",
    "\n",
    "print('Shape : ', df_2016.shape)"
   ]
  },
  {
   "cell_type": "code",
   "execution_count": 98,
   "metadata": {
    "collapsed": true
   },
   "outputs": [],
   "source": [
    "#train data without ENTRIES\n",
    "from sklearn.model_selection import train_test_split\n",
    "train_data = df_2016.reset_index(drop=True)  #we reset the index\n",
    "xg_train, xg_valid = train_test_split(train_data,test_size = 0.012,random_state=10) # data splitting\n",
    "y1=xg_train[['ENTRIES']]\n",
    "y2=xg_valid[['ENTRIES']]"
   ]
  },
  {
   "cell_type": "code",
   "execution_count": 99,
   "metadata": {
    "collapsed": true
   },
   "outputs": [],
   "source": [
    "xg_valid = xg_valid.drop(['ENTRIES'], axis = 1)\n",
    "xg_train = xg_train.drop(['ENTRIES'], axis = 1)\n",
    "yg_train = np.log1p(y1)\n",
    "yg_valid = np.log1p(y2)"
   ]
  },
  {
   "cell_type": "code",
   "execution_count": 100,
   "metadata": {
    "collapsed": true
   },
   "outputs": [],
   "source": [
    "# selecting features as list\n",
    "features = list(xg_train)\n",
    "features2 = list(yg_train)"
   ]
  },
  {
   "cell_type": "code",
   "execution_count": 101,
   "metadata": {
    "collapsed": true
   },
   "outputs": [],
   "source": [
    "# creating xgboost specific DMatrix for numpy , DMatrix is a internal data structure that used by XGBoost \n",
    "# which is optimized for both memory efficiency and training speed\n",
    "dtrain = xgb.DMatrix(xg_train[features], yg_train)\n",
    "dvalid = xgb.DMatrix(xg_valid[features], yg_valid)"
   ]
  },
  {
   "cell_type": "code",
   "execution_count": 102,
   "metadata": {
    "collapsed": true
   },
   "outputs": [],
   "source": [
    "def rmspe(y, yhat):\n",
    "    return np.sqrt(np.mean((yhat-y) ** 2))"
   ]
  },
  {
   "cell_type": "code",
   "execution_count": 103,
   "metadata": {
    "collapsed": true
   },
   "outputs": [],
   "source": [
    "def rmspe_xg(yhat, y):\n",
    "    y = np.expm1(y.get_label())\n",
    "    yhat = np.expm1(yhat)\n",
    "    return \"rmspe\", rmspe(y,yhat)"
   ]
  },
  {
   "cell_type": "code",
   "execution_count": 104,
   "metadata": {
    "collapsed": true
   },
   "outputs": [],
   "source": [
    "params = {\"objective\": \"reg:linear\",#linear regression\n",
    "          \"booster\" : \"gbtree\",#booster parameter\n",
    "          \"eta\": 0.3,#to shrink weights to make boosting more conservative (used to prevent overfitting)\n",
    "          \"max_depth\": 10,# maximum depth of a tree[default=6]\n",
    "          \"subsample\": 0.9,#subsample ratio of the training instance XGBoost randomly collected half of the data instances to grow trees and this will prevent overfitting.\n",
    "          \"colsample_bytree\": 0.7,#subsample ratio of columns when constructing each tree\n",
    "          \"silent\": 1,\n",
    "          \"seed\": 1301\n",
    "          }\n",
    "num_boost_round = 5\n",
    "watchlist = [(dtrain, 'train_data'), (dvalid, 'eval')]"
   ]
  },
  {
   "cell_type": "code",
   "execution_count": 105,
   "metadata": {},
   "outputs": [
    {
     "name": "stdout",
     "output_type": "stream",
     "text": [
      "[0]\ttrain_data-rmspe:0.41781\teval-rmspe:0.417924\n",
      "Multiple eval metrics have been passed: 'eval-rmspe' will be used for early stopping.\n",
      "\n",
      "Will train until eval-rmspe hasn't improved in 100 rounds.\n",
      "[1]\ttrain_data-rmspe:0.280788\teval-rmspe:0.281646\n",
      "[2]\ttrain_data-rmspe:0.194168\teval-rmspe:0.195753\n",
      "[3]\ttrain_data-rmspe:0.13838\teval-rmspe:0.140572\n",
      "[4]\ttrain_data-rmspe:0.102446\teval-rmspe:0.10432\n",
      "[5]\ttrain_data-rmspe:0.079223\teval-rmspe:0.082556\n",
      "[6]\ttrain_data-rmspe:0.067015\teval-rmspe:0.071255\n",
      "[7]\ttrain_data-rmspe:0.060193\teval-rmspe:0.065238\n",
      "[8]\ttrain_data-rmspe:0.052528\teval-rmspe:0.058924\n",
      "[9]\ttrain_data-rmspe:0.050444\teval-rmspe:0.057037\n"
     ]
    }
   ],
   "source": [
    "gbm = xgb.train(params, dtrain, evals=watchlist, early_stopping_rounds=100, feval=rmspe_xg, verbose_eval=True)"
   ]
  },
  {
   "cell_type": "code",
   "execution_count": 106,
   "metadata": {},
   "outputs": [
    {
     "name": "stdout",
     "output_type": "stream",
     "text": [
      "Make predictions on the test set\n",
      "RMSPE: 0.040061\n"
     ]
    }
   ],
   "source": [
    "print(\"Make predictions on the test set\")\n",
    "dtest = xgb.DMatrix(xg_valid[features])\n",
    "yhat = gbm.predict(dtest)\n",
    "error = rmspe(yg_valid.ENTRIES.values, np.expm1(yhat))\n",
    "print('RMSPE: {:.6f}'.format(error))"
   ]
  },
  {
   "cell_type": "code",
   "execution_count": 107,
   "metadata": {},
   "outputs": [
    {
     "data": {
      "text/plain": [
       "array([ 0.02532834,  0.01875728,  0.01778781, ...,  0.01792324,\n",
       "        0.0340611 ,  0.01897073], dtype=float32)"
      ]
     },
     "execution_count": 107,
     "metadata": {},
     "output_type": "execute_result"
    }
   ],
   "source": [
    "yhat"
   ]
  },
  {
   "cell_type": "code",
   "execution_count": 108,
   "metadata": {},
   "outputs": [
    {
     "data": {
      "text/html": [
       "<div>\n",
       "<style>\n",
       "    .dataframe thead tr:only-child th {\n",
       "        text-align: right;\n",
       "    }\n",
       "\n",
       "    .dataframe thead th {\n",
       "        text-align: left;\n",
       "    }\n",
       "\n",
       "    .dataframe tbody tr th {\n",
       "        vertical-align: top;\n",
       "    }\n",
       "</style>\n",
       "<table border=\"1\" class=\"dataframe\">\n",
       "  <thead>\n",
       "    <tr style=\"text-align: right;\">\n",
       "      <th></th>\n",
       "      <th>UNIT</th>\n",
       "      <th>SCP</th>\n",
       "      <th>C/A</th>\n",
       "      <th>LINENAME</th>\n",
       "      <th>Month</th>\n",
       "      <th>STATION</th>\n",
       "      <th>Hour</th>\n",
       "    </tr>\n",
       "  </thead>\n",
       "  <tbody>\n",
       "    <tr>\n",
       "      <th>30700</th>\n",
       "      <td>50</td>\n",
       "      <td>49</td>\n",
       "      <td>609</td>\n",
       "      <td>19</td>\n",
       "      <td>7</td>\n",
       "      <td>77</td>\n",
       "      <td>16</td>\n",
       "    </tr>\n",
       "    <tr>\n",
       "      <th>52936</th>\n",
       "      <td>69</td>\n",
       "      <td>28</td>\n",
       "      <td>1</td>\n",
       "      <td>114</td>\n",
       "      <td>1</td>\n",
       "      <td>110</td>\n",
       "      <td>13</td>\n",
       "    </tr>\n",
       "    <tr>\n",
       "      <th>83419</th>\n",
       "      <td>362</td>\n",
       "      <td>1</td>\n",
       "      <td>112</td>\n",
       "      <td>75</td>\n",
       "      <td>7</td>\n",
       "      <td>197</td>\n",
       "      <td>9</td>\n",
       "    </tr>\n",
       "    <tr>\n",
       "      <th>98697</th>\n",
       "      <td>448</td>\n",
       "      <td>50</td>\n",
       "      <td>25</td>\n",
       "      <td>100</td>\n",
       "      <td>9</td>\n",
       "      <td>250</td>\n",
       "      <td>9</td>\n",
       "    </tr>\n",
       "    <tr>\n",
       "      <th>193085</th>\n",
       "      <td>128</td>\n",
       "      <td>91</td>\n",
       "      <td>230</td>\n",
       "      <td>43</td>\n",
       "      <td>11</td>\n",
       "      <td>540</td>\n",
       "      <td>20</td>\n",
       "    </tr>\n",
       "  </tbody>\n",
       "</table>\n",
       "</div>"
      ],
      "text/plain": [
       "        UNIT  SCP  C/A  LINENAME  Month  STATION  Hour\n",
       "30700     50   49  609        19      7       77    16\n",
       "52936     69   28    1       114      1      110    13\n",
       "83419    362    1  112        75      7      197     9\n",
       "98697    448   50   25       100      9      250     9\n",
       "193085   128   91  230        43     11      540    20"
      ]
     },
     "execution_count": 108,
     "metadata": {},
     "output_type": "execute_result"
    }
   ],
   "source": [
    "xg_valid.head()"
   ]
  },
  {
   "cell_type": "code",
   "execution_count": 114,
   "metadata": {},
   "outputs": [
    {
     "data": {
      "text/html": [
       "<div>\n",
       "<style>\n",
       "    .dataframe thead tr:only-child th {\n",
       "        text-align: right;\n",
       "    }\n",
       "\n",
       "    .dataframe thead th {\n",
       "        text-align: left;\n",
       "    }\n",
       "\n",
       "    .dataframe tbody tr th {\n",
       "        vertical-align: top;\n",
       "    }\n",
       "</style>\n",
       "<table border=\"1\" class=\"dataframe\">\n",
       "  <thead>\n",
       "    <tr style=\"text-align: right;\">\n",
       "      <th></th>\n",
       "      <th>ENTRIES</th>\n",
       "      <th>Month</th>\n",
       "    </tr>\n",
       "  </thead>\n",
       "  <tbody>\n",
       "    <tr>\n",
       "      <th>30700</th>\n",
       "      <td>0.025652</td>\n",
       "      <td>7</td>\n",
       "    </tr>\n",
       "    <tr>\n",
       "      <th>52936</th>\n",
       "      <td>0.018934</td>\n",
       "      <td>1</td>\n",
       "    </tr>\n",
       "    <tr>\n",
       "      <th>83419</th>\n",
       "      <td>0.017947</td>\n",
       "      <td>7</td>\n",
       "    </tr>\n",
       "    <tr>\n",
       "      <th>98697</th>\n",
       "      <td>0.028287</td>\n",
       "      <td>9</td>\n",
       "    </tr>\n",
       "    <tr>\n",
       "      <th>193085</th>\n",
       "      <td>0.022843</td>\n",
       "      <td>11</td>\n",
       "    </tr>\n",
       "  </tbody>\n",
       "</table>\n",
       "</div>"
      ],
      "text/plain": [
       "         ENTRIES  Month\n",
       "30700   0.025652      7\n",
       "52936   0.018934      1\n",
       "83419   0.017947      7\n",
       "98697   0.028287      9\n",
       "193085  0.022843     11"
      ]
     },
     "execution_count": 114,
     "metadata": {},
     "output_type": "execute_result"
    }
   ],
   "source": [
    "result = pd.DataFrame({\"Month\": xg_valid[\"Month\"], 'ENTRIES': np.expm1(yhat)})\n",
    "#result.to_csv(\"submission.csv\", index=False)\n",
    "#print(\"Submission created\")\n",
    "result.head()"
   ]
  },
  {
   "cell_type": "code",
   "execution_count": 110,
   "metadata": {},
   "outputs": [
    {
     "data": {
      "text/plain": [
       "<matplotlib.axes._subplots.AxesSubplot at 0x1b4a7a622b0>"
      ]
     },
     "execution_count": 110,
     "metadata": {},
     "output_type": "execute_result"
    },
    {
     "data": {
      "image/png": "[encoded data removed]",
      "text/plain": [
       "<matplotlib.figure.Figure at 0x1b4f7314240>"
      ]
     },
     "metadata": {},
     "output_type": "display_data"
    }
   ],
   "source": [
    "%matplotlib inline\n",
    "import seaborn as sns\n",
    "sns.set(font_scale = 1.5)\n",
    "\n",
    "xgb.plot_importance(gbm)"
   ]
  },
  {
   "cell_type": "code",
   "execution_count": 111,
   "metadata": {},
   "outputs": [
    {
     "data": {
      "text/plain": [
       "{'C/A': 154,\n",
       " 'Hour': 223,\n",
       " 'LINENAME': 219,\n",
       " 'Month': 315,\n",
       " 'SCP': 581,\n",
       " 'STATION': 316,\n",
       " 'UNIT': 368}"
      ]
     },
     "execution_count": 111,
     "metadata": {},
     "output_type": "execute_result"
    }
   ],
   "source": [
    "importances = gbm.get_fscore()\n",
    "importances"
   ]
  },
  {
   "cell_type": "markdown",
   "metadata": {},
   "source": [
    "### Accuracy for the xgboost model is found to be 95.99%"
   ]
  }
 ],
 "metadata": {
  "kernelspec": {
   "display_name": "Python 3",
   "language": "python",
   "name": "python3"
  },
  "language_info": {
   "codemirror_mode": {
    "name": "ipython",
    "version": 3
   },
   "file_extension": ".py",
   "mimetype": "text/x-python",
   "name": "python",
   "nbconvert_exporter": "python",
   "pygments_lexer": "ipython3",
   "version": "3.6.1"
  }
 },
 "nbformat": 4,
 "nbformat_minor": 2
}
